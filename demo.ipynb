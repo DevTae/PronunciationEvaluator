{
 "cells": [
  {
   "cell_type": "code",
   "execution_count": 9,
   "id": "4147c3fa",
   "metadata": {
    "scrolled": false
   },
   "outputs": [
    {
     "name": "stdout",
     "output_type": "stream",
     "text": [
      "    IPA           조음위치       조음방법       조음강도 유성음여부\n",
      "0     b       Bilabial    Plosive      Lenis   Yes\n",
      "1    bʰ       Bilabial    Plosive  Aspirated   Yes\n",
      "2    b*       Bilabial    Plosive     Fortis   Yes\n",
      "3     p       Bilabial    Plosive      Lenis    No\n",
      "4    pʰ       Bilabial    Plosive  Aspirated    No\n",
      "5    p*       Bilabial    Plosive     Fortis    No\n",
      "6     m       Bilabial      Nasal      Lenis   Yes\n",
      "7     d       Alveolar    Plosive      Lenis   Yes\n",
      "8    dʰ       Alveolar    Plosive  Aspirated   Yes\n",
      "9    d*       Alveolar    Plosive     Fortis   Yes\n",
      "10    t       Alveolar    Plosive      Lenis    No\n",
      "11   tʰ       Alveolar    Plosive  Aspirated    No\n",
      "12   t*       Alveolar    Plosive     Fortis    No\n",
      "13    s       Alveolar  Fricative  Aspirated    No\n",
      "14   s*       Alveolar  Fricative     Fortis    No\n",
      "15    n       Alveolar      Nasal      Lenis    No\n",
      "16    ɾ       Alveolar    Lateral      Lenis   Yes\n",
      "17    l       Alveolar    Lateral      Lenis    No\n",
      "18   dʑ  Alveo-Palatal  Affricate      Lenis   Yes\n",
      "19  dʑʰ  Alveo-Palatal  Affricate  Aspirated   Yes\n",
      "20  dʑ*  Alveo-Palatal  Affricate     Fortis   Yes\n",
      "21   tɕ  Alveo-Palatal  Affricate      Lenis    No\n",
      "22  tɕʰ  Alveo-Palatal  Affricate  Aspirated    No\n",
      "23  tɕ*  Alveo-Palatal  Affricate     Fortis    No\n",
      "24    ɡ          Velar    Plosive      Lenis   Yes\n",
      "25   ɡʰ          Velar    Plosive  Aspirated   Yes\n",
      "26   ɡ*          Velar    Plosive     Fortis   Yes\n",
      "27    k          Velar    Plosive      Lenis    No\n",
      "28   kʰ          Velar    Plosive  Aspirated    No\n",
      "29   k*          Velar    Plosive     Fortis    No\n",
      "30    ŋ          Velar      Nasal      Lenis   Yes\n",
      "31    h        Glottal  Fricative  Aspirated    No\n",
      "32    θ       Alveolar  Fricative      Lenis    No\n",
      "33    ð       Alveolar  Fricative      Lenis   Yes\n",
      "34    ʃ  Alveo-Palatal  Fricative      Lenis    No\n",
      "35    ʒ  Alveo-Palatal  Fricative      Lenis   Yes\n",
      "--------------------------------------------------\n",
      "   IPA    조음상하위치      조음좌우위치               입술모양\n",
      "0    i      High       Front          Unrounded\n",
      "1    ɯ      High        Back          Unrounded\n",
      "2    u      High        Back            Rounded\n",
      "3    ɛ       Mid       Front          Unrounded\n",
      "4    ʌ       Mid        Back          Unrounded\n",
      "5    o       Mid        Back            Rounded\n",
      "6    ɑ       Low        Back          Unrounded\n",
      "7    a       Low        Back          Unrounded\n",
      "8   ju      High  Front+Back            Rounded\n",
      "9   jʌ  High+Mid  Front+Back          Unrounded\n",
      "10  jo  High+Mid  Front+Back            Rounded\n",
      "11  jɛ  High+Mid  Front+Back          Unrounded\n",
      "12  ja  High+Low  Front+Back          Unrounded\n",
      "13  wi      High  Back+Front  Rounded+Unrounded\n",
      "14  wʌ  High+Mid        Back  Rounded+Unrounded\n",
      "15  wɛ  High+Mid  Back+Front  Rounded+Unrounded\n",
      "16  wa   Mid+Low        Back  Rounded+Unrounded\n",
      "17  ɰi      High  Back+Front  Unrounded+Rounded\n",
      "18   ə       Mid         Mid          Unrounded\n",
      "19   ɔ   Mid+Low        Back            Rounded\n",
      "20   ɪ  NearHigh   NearFront          Unrounded\n",
      "21   ʊ  NearHigh    NearBack            Rounded\n",
      "22   æ   NearLow   NearFront          Unrounded\n"
     ]
    }
   ],
   "source": [
    "import pandas as pd\n",
    "import matplotlib.pyplot as plt\n",
    "\n",
    "from main import *\n",
    "\n",
    "print(consonants)\n",
    "\n",
    "print(\"--------------------------------------------------\")\n",
    "\n",
    "print(vowels)"
   ]
  },
  {
   "cell_type": "code",
   "execution_count": 10,
   "id": "59acb161",
   "metadata": {},
   "outputs": [
    {
     "name": "stdout",
     "output_type": "stream",
     "text": [
      "[[-0.5, 0.5, -0.5], [-0.25, 0, 0, -0.5], [-0.25, 0, 0, -0.5], [-0.5, 0.17, 0.2], [0.25, 0, 0, 0.5], [-0.5, 0.5, -0.5], [-0.25, 0.25, 0.5, -0.5], [-0.5, -0.5, 0], [0.5, 0.17, 0.2]] ['V', 'C', 'C', 'V', 'c', 'V', 'C', 'V', 'V'] ['ɑ', 'n', 'n', 'jʌ', 'ŋ', 'ɑ', 's', 'ɛ', 'jo']\n",
      "[[-0.5, 0.5, -0.5], [-0.25, 0, 0, -0.5], [-0.25, 0, 0, -0.5], [-0.5, 0.17, 0.2], [0.25, 0, 0, 0.5], [-0.5, 0.5, -0.5], [-0.25, 0.25, 0.5, -0.5], [-0.5, -0.5, 0], [0.5, 0.17, 0.2], [-0.5, 0.5, -0.5], [-0.25, 0, 0, -0.5], [-0.25, 0, 0, -0.5], [-0.5, 0.17, 0.2], [0.25, 0, 0, 0.5], [-0.5, 0.5, -0.5], [-0.25, 0.25, 0.5, -0.5], [-0.5, -0.5, 0], [0.5, 0.17, 0.2]] ['V', 'C', 'C', 'V', 'c', 'V', 'C', 'V', 'V', 'V', 'C', 'C', 'V', 'c', 'V', 'C', 'V', 'V'] ['ɑ', 'n', 'n', 'jʌ', 'ŋ', 'ɑ', 's', 'ɛ', 'jo', 'ɑ', 'n', 'n', 'jʌ', 'ŋ', 'ɑ', 's', 'ɛ', 'jo']\n",
      "[[-0.5, 0.5, -0.5], [-0.25, 0, 0, -0.5], [-0.25, 0.75, 0, 0.5], [-0.5, -0.5, 0], [-0.5, 0.5, 0], [-0.5, 0, 0, 0.5], [-0.5, 0.5, -0.5], [-0.25, 0, 0, -0.5], [-0.25, 0.25, 0.5, -0.5], [-0.5, -0.5, 0], [0.5, 0.17, 0.2]] ['V', 'C', 'C', 'V', 'V', 'C', 'V', 'C', 'C', 'V', 'V'] ['ɑ', 'n', 'd', 'ɛ', 'ʌ', 'm', 'ɑ', 'n', 's', 'ɛ', 'jo']\n",
      "[[-0.5, 0.5, -0.5], [-0.25, 0, 0, -0.5], [-0.25, 0, 0, -0.5], [-0.5, 0, 0, 0.5], [-0.5, 0.5, -0.5], [-0.25, 0.25, 0.5, -0.5], [-0.25, 0.25, 0.5, -0.5], [-0.5, -0.5, 0], [0.5, 0.17, 0.2]] ['V', 'C', 'C', 'C', 'V', 'C', 'C', 'V', 'V'] ['ɑ', 'n', 'n', 'm', 'a', 's', 's', 'ɛ', 'jo']\n",
      "[[0.5, 0.25, 0.5, -0.5], [-0.5, 0.5, -0.5], [-0.25, 0, 0, -0.5], [-0.25, 0, 0, -0.5], [-0.5, 0.17, 0.2], [0.25, 0, 0, 0.5], [0.25, 0.75, 0, -0.5], [-0.5, 0.5, -0.5], [-0.25, 0.25, 0.5, -0.5], [-0.25, 0.25, 0.5, -0.5], [-0.5, -0.5, 0], [0.5, 0.17, 0.2]] ['C', 'V', 'C', 'C', 'V', 'c', 'C', 'V', 'C', 'C', 'V', 'V'] ['h', 'ɑ', 'n', 'n', 'jʌ', 'ŋ', 'k', 'ɑ', 's', 's', 'ɛ', 'jo']\n",
      "[[-0.5, 0, 0, 0.5], [-0.5, 0.17, 0.2], [0.25, 0, 0, 0.5], [0.25, 0, 0, 0.5], [-0.17, 0.5, -0.3], [-0.25, 0.75, 0, 0.5], [-0.5, -0.5, 0.5], [-0.5, 0, 0, 0.5], [-0.5, 0.17, 0.2], [0.25, 0, 0, 0.5], [0.25, 0, 0, 0.5], [-0.5, 0.5, -0.5], [-0.5, 0.5, -0.5], [-0.25, 0, 0, -0.5], [0, 0.5, 0, 0.5], [-0.5, -0.5, 0], [0.5, 0.5, 0]] ['C', 'V', 'c', 'c', 'V', 'C', 'V', 'C', 'V', 'c', 'c', 'V', 'V', 'C', 'C', 'V', 'V'] ['m', 'jʌ', 'ŋ', 'ŋ', 'wa', 'd', 'i', 'm', 'jʌ', 'ŋ', 'ŋ', 'ɑ', 'ɑ', 'n', 'dʑ', 'ɛ', 'o']\n"
     ]
    }
   ],
   "source": [
    "datas = [ \"ɑnnjʌŋɑsɛjo\", \"ɑnnjʌŋɑsɛjo ɑnnjʌŋɑsɛjo\", \"ɑndɛʌmɑnsɛjjo\", \"ɑnnjjmassɛjjo\", \"hɑnnjjʌŋ kɑssɛjo\", \"mjjʌŋŋwadʑi  mjjʌŋŋɑɑndʑɛo\" ]\n",
    "\n",
    "for data in datas:\n",
    "    values, types, origs = mapping_ipa_with_value(data)\n",
    "    print(values, types, origs)"
   ]
  },
  {
   "cell_type": "code",
   "execution_count": 3,
   "id": "9abff668",
   "metadata": {
    "scrolled": true
   },
   "outputs": [
    {
     "name": "stdout",
     "output_type": "stream",
     "text": [
      "CVCCV ['CVC', 'CV']\n",
      "CVCV ['CV', 'CV']\n",
      "CVcV ['CVc', 'V']\n",
      "CVCC ['CVC', 'C']\n",
      "VCCVC ['VC', 'CVC']\n",
      "CVCCV ['CVC', 'CV']\n",
      "CVcCV ['CVc', 'CV']\n",
      "VCCVCVV ['VC', 'CV', 'CV', 'V']\n",
      "VCVCVCVV ['V', 'CV', 'CV', 'CV', 'V']\n",
      "VCVcVCVV ['V', 'CVc', 'V', 'CV', 'V']\n",
      "VCCVCVVC ['VC', 'CV', 'CV', 'VC']\n",
      "CVCCVVVC ['CVC', 'CV', 'V', 'VC']\n",
      "CVcCVVVC ['CVc', 'CV', 'V', 'VC']\n",
      "CVcVCVCVcVCCVV ['CVc', 'V', 'CV', 'CVc', 'VC', 'CV', 'V']\n",
      "CVcVCcVCVcVCCVV ['CVc', 'VCcVCVcVCCVV']\n"
     ]
    }
   ],
   "source": [
    "# 자음과 모음이 한 발음 단위로 나뉘도록 분할\n",
    "def split_types(types):\n",
    "    result = []\n",
    "    \n",
    "    while len(types) > 0:\n",
    "        if types.startswith(\"CVCC\") or types.startswith(\"CVc\"):\n",
    "            result.append(types[:3])\n",
    "            types = types[3:]\n",
    "        elif types.startswith(\"CVCV\") or types.startswith(\"CVV\") or types.startswith(\"VCC\") or types.startswith(\"Vc\"):\n",
    "            result.append(types[:2])\n",
    "            types = types[2:]\n",
    "        elif types.startswith(\"VCV\") or types.startswith(\"VV\") or types.startswith(\"cV\") or types.upper().startswith(\"CC\"):\n",
    "            result.append(types[:1])\n",
    "            types = types[1:] # VCc 에러\n",
    "        else:\n",
    "            result.append(types[:])\n",
    "            types = \"\"\n",
    "    \n",
    "    return result\n",
    "        \n",
    "print(\"CVCCV\", split_types(\"CVCCV\"))\n",
    "print(\"CVCV\", split_types(\"CVCV\"))\n",
    "print(\"CVcV\", split_types(\"CVcV\"))\n",
    "print(\"CVCC\", split_types(\"CVCC\"))\n",
    "print(\"VCCVC\", split_types(\"VCCVC\"))\n",
    "print(\"CVCCV\", split_types(\"CVCCV\"))\n",
    "print(\"CVcCV\", split_types(\"CVcCV\"))\n",
    "print(\"VCCVCVV\", split_types(\"VCCVCVV\"))\n",
    "print(\"VCVCVCVV\", split_types(\"VCVCVCVV\"))\n",
    "print(\"VCVcVCVV\", split_types(\"VCVcVCVV\"))\n",
    "print(\"VCCVCVVC\", split_types(\"VCCVCVVC\"))\n",
    "print(\"CVCCVVVC\", split_types(\"CVCCVVVC\"))\n",
    "print(\"CVcCVVVC\", split_types(\"CVcCVVVC\"))\n",
    "print(\"CVcVCVCVcVCCVV\", split_types(\"CVcVCVCVcVCCVV\"))\n",
    "print(\"CVcVCcVCVcVCCVV\", split_types(\"CVcVCcVCVcVCCVV\"))"
   ]
  },
  {
   "cell_type": "code",
   "execution_count": 4,
   "id": "df0e287d",
   "metadata": {
    "scrolled": true
   },
   "outputs": [
    {
     "name": "stdout",
     "output_type": "stream",
     "text": [
      "[[0, 0, 0, 0, -0.5, 0.5, -0.5, -0.25, 0, 0, -0.5], [-0.25, 0, 0, -0.5, -0.5, 0.17, 0.2, 0.25, 0, 0, 0.5], [0, 0, 0, 0, -0.5, 0.5, -0.5, 0, 0, 0, 0], [-0.25, 0.25, 0.5, -0.5, -0.5, -0.5, 0, 0, 0, 0, 0], [0, 0, 0, 0, 0.5, 0.17, 0.2, 0, 0, 0, 0]] ['VC', 'CVc', 'V', 'CV', 'V'] [['ɑ', 'n'], ['n', 'jʌ', 'ŋ'], ['ɑ'], ['s', 'ɛ'], ['jo']]\n",
      "[[0, 0, 0, 0, -0.5, 0.5, -0.5, -0.25, 0, 0, -0.5], [-0.25, 0, 0, -0.5, -0.5, 0.17, 0.2, 0.25, 0, 0, 0.5], [0, 0, 0, 0, -0.5, 0.5, -0.5, 0, 0, 0, 0], [-0.25, 0.25, 0.5, -0.5, -0.5, -0.5, 0, 0, 0, 0, 0], [0, 0, 0, 0, 0.5, 0.17, 0.2, 0, 0, 0, 0], [0, 0, 0, 0, -0.5, 0.5, -0.5, -0.25, 0, 0, -0.5], [-0.25, 0, 0, -0.5, -0.5, 0.17, 0.2, 0.25, 0, 0, 0.5], [0, 0, 0, 0, -0.5, 0.5, -0.5, 0, 0, 0, 0], [-0.25, 0.25, 0.5, -0.5, -0.5, -0.5, 0, 0, 0, 0, 0], [0, 0, 0, 0, 0.5, 0.17, 0.2, 0, 0, 0, 0]] ['VC', 'CVc', 'V', 'CV', 'V', 'VC', 'CVc', 'V', 'CV', 'V'] [['ɑ', 'n'], ['n', 'jʌ', 'ŋ'], ['ɑ'], ['s', 'ɛ'], ['jo'], ['ɑ', 'n'], ['n', 'jʌ', 'ŋ'], ['ɑ'], ['s', 'ɛ'], ['jo']]\n",
      "[[0, 0, 0, 0, -0.5, 0.5, -0.5, -0.25, 0, 0, -0.5], [-0.25, 0.75, 0, 0.5, -0.5, -0.5, 0, 0, 0, 0, 0], [0, 0, 0, 0, -0.5, 0.5, 0, 0, 0, 0, 0], [-0.5, 0, 0, 0.5, -0.5, 0.5, -0.5, -0.25, 0, 0, -0.5], [-0.25, 0.25, 0.5, -0.5, -0.5, -0.5, 0, 0, 0, 0, 0], [0, 0, 0, 0, 0.5, 0.17, 0.2, 0, 0, 0, 0]] ['VC', 'CV', 'V', 'CVC', 'CV', 'V'] [['ɑ', 'n'], ['d', 'ɛ'], ['ʌ'], ['m', 'ɑ', 'n'], ['s', 'ɛ'], ['jo']]\n",
      "[[0, 0, 0, 0, -0.5, 0.5, -0.5, -0.25, 0, 0, -0.5], [-0.25, 0, 0, -0.5, 0, 0, 0, 0, 0, 0, 0], [-0.5, 0, 0, 0.5, -0.5, 0.5, -0.5, -0.25, 0.25, 0.5, -0.5], [-0.25, 0.25, 0.5, -0.5, -0.5, -0.5, 0, 0, 0, 0, 0], [0, 0, 0, 0, 0.5, 0.17, 0.2, 0, 0, 0, 0]] ['VC', 'C', 'CVC', 'CV', 'V'] [['ɑ', 'n'], ['n'], ['m', 'a', 's'], ['s', 'ɛ'], ['jo']]\n",
      "[[0.5, 0.25, 0.5, -0.5, -0.5, 0.5, -0.5, -0.25, 0, 0, -0.5], [-0.25, 0, 0, -0.5, -0.5, 0.17, 0.2, 0.25, 0, 0, 0.5], [0.25, 0.75, 0, -0.5, -0.5, 0.5, -0.5, -0.25, 0.25, 0.5, -0.5], [-0.25, 0.25, 0.5, -0.5, -0.5, -0.5, 0, 0, 0, 0, 0], [0, 0, 0, 0, 0.5, 0.17, 0.2, 0, 0, 0, 0]] ['CVC', 'CVc', 'CVC', 'CV', 'V'] [['h', 'ɑ', 'n'], ['n', 'jʌ', 'ŋ'], ['k', 'ɑ', 's'], ['s', 'ɛ'], ['jo']]\n",
      "[[-0.5, 0, 0, 0.5, -0.5, 0.17, 0.2, 0.25, 0, 0, 0.5], [0, 0, 0, 0, 0, 0, 0, 0.25, 0, 0, 0.5], [0, 0, 0, 0, -0.17, 0.5, -0.3, 0, 0, 0, 0], [-0.25, 0.75, 0, 0.5, -0.5, -0.5, 0.5, 0, 0, 0, 0], [-0.5, 0, 0, 0.5, -0.5, 0.17, 0.2, 0.25, 0, 0, 0.5], [0, 0, 0, 0, 0, 0, 0, 0.25, 0, 0, 0.5], [0, 0, 0, 0, -0.5, 0.5, -0.5, 0, 0, 0, 0], [0, 0, 0, 0, -0.5, 0.5, -0.5, -0.25, 0, 0, -0.5], [0, 0.5, 0, 0.5, -0.5, -0.5, 0, 0, 0, 0, 0], [0, 0, 0, 0, 0.5, 0.5, 0, 0, 0, 0, 0]] ['CVc', 'c', 'V', 'CV', 'CVc', 'c', 'V', 'VC', 'CV', 'V'] [['m', 'jʌ', 'ŋ'], ['ŋ'], ['wa'], ['d', 'i'], ['m', 'jʌ', 'ŋ'], ['ŋ'], ['ɑ'], ['ɑ', 'n'], ['dʑ', 'ɛ'], ['o']]\n"
     ]
    }
   ],
   "source": [
    "# C+V 단위 Vectorization 진행\n",
    "\n",
    "# [0] conso_pos\n",
    "# [1] conso_how\n",
    "# [2] conso_str\n",
    "# [3] conso_voi\n",
    "# [4] vowel_shp\n",
    "# [5] vowel_wps\n",
    "# [6] vowel_hps\n",
    "# [7] support_conso_pos\n",
    "# [8] support_how\n",
    "# [9] support_str\n",
    "# [10] support_voi\n",
    "\n",
    "def vectorize_ipa(values, types, origs):\n",
    "    vector_values = []\n",
    "    vector_types = []\n",
    "    vector_origs = []\n",
    "    prev_type = None\n",
    "    \n",
    "    # C+V 단위 Vectorization\n",
    "    types_after = split_types(''.join(types))\n",
    "    \n",
    "    idx = 0\n",
    "    for types_ in types_after:\n",
    "        vector_value = []\n",
    "        vector_orig = []\n",
    "        \n",
    "        if types_ == \"CVC\" or types_ == \"CVc\":\n",
    "            vector_value += values[idx]\n",
    "            vector_value += values[idx+1]\n",
    "            vector_value += values[idx+2]\n",
    "            vector_orig.append(origs[idx])\n",
    "            vector_orig.append(origs[idx+1])\n",
    "            vector_orig.append(origs[idx+2])\n",
    "        elif types_ == \"CV\":\n",
    "            vector_value += values[idx]\n",
    "            vector_value += values[idx+1]\n",
    "            vector_value += [0, 0, 0, 0]\n",
    "            vector_orig.append(origs[idx])\n",
    "            vector_orig.append(origs[idx+1])\n",
    "        elif types_ == \"VC\" or types_ == \"Vc\":\n",
    "            vector_value += [0, 0, 0, 0]\n",
    "            vector_value += values[idx]\n",
    "            vector_value += values[idx+1]\n",
    "            vector_orig.append(origs[idx])\n",
    "            vector_orig.append(origs[idx+1])\n",
    "        elif types_ == \"V\":\n",
    "            vector_value += [0, 0, 0, 0]\n",
    "            vector_value += values[idx]\n",
    "            vector_value += [0, 0, 0, 0]\n",
    "            vector_orig.append(origs[idx])\n",
    "        elif types_ == \"C\":\n",
    "            vector_value += values[idx]\n",
    "            vector_value += [0, 0, 0]\n",
    "            vector_value += [0, 0, 0, 0]\n",
    "            vector_orig.append(origs[idx])\n",
    "        elif types_ == \"c\":\n",
    "            vector_value += [0, 0, 0, 0]\n",
    "            vector_value += [0, 0, 0]\n",
    "            vector_value += values[idx]\n",
    "            vector_orig.append(origs[idx])\n",
    "        else:\n",
    "            print(types_after)\n",
    "            print(types_)\n",
    "            raise Exception(\"types_ 에 대하여 예기치 못한 입력값이 들어왔습니다.\")\n",
    "        \n",
    "        vector_type = types_\n",
    "        vector_values.append(vector_value)\n",
    "        vector_types.append(vector_type)\n",
    "        vector_origs.append(vector_orig)\n",
    "        idx += len(types_)\n",
    "\n",
    "    return vector_values, vector_types, vector_origs\n",
    "\n",
    "\n",
    "datas = [ \"ɑnnjʌŋɑsɛjo\", \"ɑnnjʌŋɑsɛjo ɑnnjʌŋɑsɛjo\", \"ɑndɛʌmɑnsɛjjo\", \"ɑnnjjmassɛjjo\", \"hɑnnjjʌŋ kɑssɛjo\", \"mjjʌŋŋwadʑi  mjjʌŋŋɑɑndʑɛo\" ]\n",
    "\n",
    "for data in datas:\n",
    "    values, types, origs = mapping_ipa_with_value(data)\n",
    "    vector_values, vector_types, vector_origs = vectorize_ipa(values, types, origs)\n",
    "    print(vector_values, vector_types, vector_origs)"
   ]
  },
  {
   "cell_type": "code",
   "execution_count": 5,
   "id": "6fe660fb",
   "metadata": {},
   "outputs": [
    {
     "data": {
      "text/plain": [
       "[<matplotlib.lines.Line2D at 0x218658309a0>,\n",
       " <matplotlib.lines.Line2D at 0x21865822910>,\n",
       " <matplotlib.lines.Line2D at 0x21865822940>,\n",
       " <matplotlib.lines.Line2D at 0x21865830af0>,\n",
       " <matplotlib.lines.Line2D at 0x21865830c10>,\n",
       " <matplotlib.lines.Line2D at 0x21865830d30>,\n",
       " <matplotlib.lines.Line2D at 0x21865830e50>,\n",
       " <matplotlib.lines.Line2D at 0x21865830f70>,\n",
       " <matplotlib.lines.Line2D at 0x218658400d0>,\n",
       " <matplotlib.lines.Line2D at 0x218658401f0>,\n",
       " <matplotlib.lines.Line2D at 0x218651078e0>]"
      ]
     },
     "execution_count": 5,
     "metadata": {},
     "output_type": "execute_result"
    },
    {
     "data": {
      "image/png": "[encoded data removed]",
      "text/plain": [
       "<Figure size 432x288 with 1 Axes>"
      ]
     },
     "metadata": {
      "needs_background": "light"
     },
     "output_type": "display_data"
    }
   ],
   "source": [
    "values, types, origs = mapping_ipa_with_value(\"ɑnnjʌŋɑsɛjo\")\n",
    "vector_values, vector_types, vector_origs = vectorize_ipa(values, types, origs)\n",
    "\n",
    "plt.plot(vector_values)"
   ]
  },
  {
   "cell_type": "code",
   "execution_count": 6,
   "id": "ef80d26e",
   "metadata": {},
   "outputs": [
    {
     "data": {
      "text/plain": [
       "[<matplotlib.lines.Line2D at 0x2186594e910>,\n",
       " <matplotlib.lines.Line2D at 0x2186594e940>,\n",
       " <matplotlib.lines.Line2D at 0x2186594ea60>,\n",
       " <matplotlib.lines.Line2D at 0x2186594eb80>,\n",
       " <matplotlib.lines.Line2D at 0x2186594eca0>,\n",
       " <matplotlib.lines.Line2D at 0x2186594edc0>,\n",
       " <matplotlib.lines.Line2D at 0x2186594eee0>,\n",
       " <matplotlib.lines.Line2D at 0x2186595c040>,\n",
       " <matplotlib.lines.Line2D at 0x2186595c160>,\n",
       " <matplotlib.lines.Line2D at 0x2186595c280>,\n",
       " <matplotlib.lines.Line2D at 0x218659275e0>]"
      ]
     },
     "execution_count": 6,
     "metadata": {},
     "output_type": "execute_result"
    },
    {
     "data": {
      "image/png": "[encoded data removed]",
      "text/plain": [
       "<Figure size 432x288 with 1 Axes>"
      ]
     },
     "metadata": {
      "needs_background": "light"
     },
     "output_type": "display_data"
    }
   ],
   "source": [
    "values, types, origs = mapping_ipa_with_value(\"ɑndɛʌmɑnsɛjjo\")\n",
    "vector_values, vector_types, vector_origs = vectorize_ipa(values, types, origs)\n",
    "\n",
    "plt.plot(vector_values)"
   ]
  },
  {
   "cell_type": "code",
   "execution_count": 7,
   "id": "d807646e",
   "metadata": {
    "scrolled": false
   },
   "outputs": [
    {
     "name": "stdout",
     "output_type": "stream",
     "text": [
      "0.0\n",
      "0.25\n",
      "0.265869140625\n",
      "---------------\n",
      "[[1.         0.2913546  0.33937565 0.74586777 0.267336   0.22331852]\n",
      " [0.24010183 0.24174133 0.16392356 0.33339076 0.29958348 0.16016701]\n",
      " [0.79574509 0.41955062 0.86828512 0.57105501 0.390625   0.60258523]\n",
      " [0.267336   0.59710744 0.24025052 0.24435046 1.         0.16787852]\n",
      " [0.44663704 0.36261199 0.6827116  0.28296597 0.33575703 1.        ]]\n",
      "[['ɑ', 'n'], ['n', 'jʌ', 'ŋ'], ['ɑ'], ['s', 'ɛ'], ['jo']] [['ɑ', 'n'], ['d', 'ɛ'], ['ʌ'], ['m', 'ɑ', 'n'], ['s', 'ɛ'], ['jo']]\n"
     ]
    }
   ],
   "source": [
    "# 두 value 사이에서의 score 를 구하는 함수 (1차원) (default)\n",
    "def get_score_1d(values_ans, values_usr):\n",
    "    assert isinstance(values_ans, list), \"1차원 리스트에 대한 입력값만 지원합니다\"\n",
    "    assert not isinstance(values_ans[0], list), \"1차원 리스트에 대한 입력값만 지원합니다\"\n",
    "    assert isinstance(values_usr, list), \"1차원 리스트에 대한 입력값만 지원합니다\"\n",
    "    assert not isinstance(values_usr[0], list), \"1차원 리스트에 대한 입력값만 지원합니다\"\n",
    "    \n",
    "    # value_1 과 value_2 의 원소 배열 크기가 다른 경우, max distance (=1) 반환함.\n",
    "    if len(values_ans) != len(values_usr):\n",
    "        return 0 # min score 반환\n",
    "    \n",
    "    sum_score = 0\n",
    "    cnt_score = 0\n",
    "    \n",
    "    for idx in range(len(values_ans)):\n",
    "        distance = abs(values_usr[idx] - values_ans[idx])\n",
    "        sum_score += (1 - distance) ** 2 # 거듭제곱 형식으로 정답보다 멀수록 점수를 더 차감하는 방식\n",
    "        cnt_score += 1\n",
    "    \n",
    "    return (sum_score / cnt_score) ** 2 # 거듭제곱 형식으로 정답보다 멀수록 점수를 더 차감하는 방식\n",
    "\n",
    "print(get_score_1d([0, 1, 1, 0, 1], [1, 0, 0, 1, 0]))\n",
    "print(get_score_1d([0, 1, 1, 1], [1, 0, 1, 1]))\n",
    "print(get_score_1d([0, 0.5, 0.25, 0.5], [0, 0, 0, 1]))\n",
    "\n",
    "print(\"---------------\") # outputs are real distance values belows\n",
    "\n",
    "import numpy as np\n",
    "\n",
    "# values_1 과 values_2 에 대한 서로 대응하는 distance 를 계산한다.\n",
    "# types_1 : answer, types_2 : user_input\n",
    "def get_scores(values_ans, types_ans, values_usr, types_usr):\n",
    "    scores = np.zeros((len(types_ans), len(types_usr)), dtype=float)\n",
    "    \n",
    "    for i in range(len(types_ans)):\n",
    "        for j in range(len(types_usr)):\n",
    "            score = get_score_1d(values_ans[i], values_usr[j])\n",
    "            if types_ans[i] != types_usr[j]:\n",
    "                score *= min(1, len(types_usr[j]) / len(types_ans[i]))\n",
    "            scores[i][j] = score\n",
    "    \n",
    "    return scores\n",
    "    \n",
    "values_ans, types_ans, origs_ans = mapping_ipa_with_value(\"ɑnnjʌŋɑsɛjo\")\n",
    "values_ans, types_ans, origs_ans = vectorize_ipa(values_ans, types_ans, origs_ans)\n",
    "values_usr, types_usr, origs_usr = mapping_ipa_with_value(\"ɑndɛʌmɑnsɛjjo\")\n",
    "values_usr, types_usr, origs_usr = vectorize_ipa(values_usr, types_usr, origs_usr)\n",
    "\n",
    "print(get_scores(values_ans, types_ans, values_usr, types_usr))\n",
    "print(origs_ans, origs_usr)"
   ]
  },
  {
   "cell_type": "code",
   "execution_count": 8,
   "id": "07d18f1e",
   "metadata": {
    "scrolled": true
   },
   "outputs": [
    {
     "name": "stdout",
     "output_type": "stream",
     "text": [
      "{'answer_ipa': 'ɑnnjʌŋɑsɛjo', 'user_ipa': 'ɑndɛʌmɑnsɛjjo', 'score': 0.735495552825069, 'summary': [[['ɑ', 'n'], ['ɑ', 'n'], 1.0], [['n', 'jʌ', 'ŋ'], ['d', 'ɛ'], 0.24174132898071626], [['ɑ'], ['ʌ'], 0.868285123966942], [['ɑ'], ['m', 'ɑ', 'n'], 0.5710550103305786], [['s', 'ɛ'], ['s', 'ɛ'], 1.0], [['jo'], ['jo'], 1.0]]}\n"
     ]
    }
   ],
   "source": [
    "# 두 values 사이에서 score 채점 진행 (동적계획법 활용)\n",
    "def get_score(answer_ipa, user_ipa, option=\"default\"):\n",
    "    values_ans, types_ans, origs_ans = mapping_ipa_with_value(answer_ipa)\n",
    "    values_ans, types_ans, origs_ans = vectorize_ipa(values_ans, types_ans, origs_ans)\n",
    "    values_usr, types_usr, origs_usr = mapping_ipa_with_value(user_ipa)\n",
    "    values_usr, types_usr, origs_usr = vectorize_ipa(values_usr, types_usr, origs_usr)\n",
    "    \n",
    "    scores = get_scores(values_ans, types_ans, values_usr, types_usr)\n",
    "    avg_of_scores = np.zeros((len(types_ans) + 1, len(types_usr) + 1), dtype=float)\n",
    "    cnt_of_directions = np.zeros((len(types_ans) + 1, len(types_usr) + 1), dtype=float) # direction counting\n",
    "    directions = np.empty((len(types_ans) + 1, len(types_usr) + 1), dtype='U') # best path 의 방향 저장\n",
    "\n",
    "    # 기본 설정\n",
    "    avg_of_scores[:,0] = 0\n",
    "    avg_of_scores[0,:] = 0\n",
    "    for i in range(1, len(types_ans) + 1):\n",
    "        cnt_of_directions[i][0] = i - 1\n",
    "    \n",
    "    # 평균이 최대가 되는 경우를 찾게 됨\n",
    "    for i in range(1, len(types_ans) + 1):\n",
    "        for j in range(1, len(types_usr) + 1):\n",
    "            # right\n",
    "            expected_right = (avg_of_scores[i][j-1] * cnt_of_directions[i][j-1] + scores[i-1][j-1]) / (cnt_of_directions[i][j-1] + 1)\n",
    "            expected_right *= 0.9 # 두 개로 하나를 채우는 것이기 때문에 약간의 점수 감소\n",
    "            if avg_of_scores[i][j] < expected_right:\n",
    "                avg_of_scores[i][j] = expected_right\n",
    "                cnt_of_directions[i][j] = cnt_of_directions[i][j-1] + 1\n",
    "                directions[i][j] = \"r\"\n",
    "            \n",
    "            # bottom\n",
    "            expected_bottom = (avg_of_scores[i-1][j] * cnt_of_directions[i-1][j] + scores[i-1][j-1]) / (cnt_of_directions[i-1][j] + 1)\n",
    "            expected_bottom *= 0.6 # 하나로 두 개를 떼우려는 것이기에 점수 대폭 감소\n",
    "            if avg_of_scores[i][j] < expected_bottom:\n",
    "                avg_of_scores[i][j] = expected_bottom\n",
    "                cnt_of_directions[i][j] = cnt_of_directions[i-1][j] + 1\n",
    "                directions[i][j] = \"b\"\n",
    "            \n",
    "            # diagonal\n",
    "            expected_diagonal = (avg_of_scores[i-1][j-1] * cnt_of_directions[i-1][j-1] + scores[i-1][j-1]) / (cnt_of_directions[i-1][j-1] + 1)\n",
    "            expected_diagonal *= 1 # 정상적인 루트이므로 점수 그대로 진행\n",
    "            if avg_of_scores[i][j] < expected_diagonal:\n",
    "                avg_of_scores[i][j] = expected_diagonal\n",
    "                directions[i][j] = \"d\"\n",
    "                cnt_of_directions[i][j] = cnt_of_directions[i-1][j-1] + 1\n",
    "                \n",
    "    # score 계산 및 score 가 최대가 되는 i(=answer), j(=user) 계산\n",
    "    i = len(types_ans)\n",
    "    j = min(i, len(types_usr))\n",
    "    max_score = 0\n",
    "    for j_ in range(i, len(types_usr) + 1):\n",
    "        score = avg_of_scores[i][j_]\n",
    "        if score > max_score:\n",
    "            max_score = score\n",
    "            j = j_\n",
    "    \n",
    "    # score 최댓값\n",
    "    score = avg_of_scores[i][j]\n",
    "    \n",
    "    if option == \"score\":\n",
    "        return score\n",
    "    elif option == \"default\":\n",
    "        # score 최댓값이 나오게 하는 path 파악\n",
    "        result_dict = dict()\n",
    "        result_dict[\"answer_ipa\"] = answer_ipa\n",
    "        result_dict[\"user_ipa\"] = user_ipa\n",
    "        result_dict[\"score\"] = score\n",
    "        result_dict[\"summary\"] = []\n",
    "        \n",
    "        answer_ipa_splited = []\n",
    "        user_ipa_splited = []\n",
    "        per_scores = []\n",
    "        \n",
    "        while True:\n",
    "            direction = directions[i][j]\n",
    "            \n",
    "            if direction == '':\n",
    "                break\n",
    "            \n",
    "            answer_ipa_splited.append(origs_ans[i-1])\n",
    "            user_ipa_splited.append(origs_usr[j-1])\n",
    "            per_scores.append(scores[i-1][j-1])\n",
    "            \n",
    "            if direction == 'r':\n",
    "                j -= 1\n",
    "            elif direction == 'b':\n",
    "                i -= 1\n",
    "            elif direction == 'd':\n",
    "                i -= 1\n",
    "                j -= 1\n",
    "        \n",
    "        # 전체 정답 중에서 중간부터 채점한 게 높을 땐, 이전 문제 채점도 추가.\n",
    "        while i > 0:\n",
    "            answer_ipa_splited.append(origs_ans[i-1])\n",
    "            user_ipa_splited.append([])\n",
    "            per_scores.append(0)\n",
    "            i -= 1\n",
    "        \n",
    "        for answer_ipa_char, user_ipa_char, per_score in zip(answer_ipa_splited, user_ipa_splited, per_scores):\n",
    "            result_dict[\"summary\"].append([answer_ipa_char, user_ipa_char, per_score])\n",
    "            \n",
    "        result_dict[\"summary\"].reverse() \n",
    "\n",
    "        return result_dict\n",
    "\n",
    "print(get_score(\"ɑnnjʌŋɑsɛjo\", \"ɑndɛʌmɑnsɛjjo\"))"
   ]
  },
  {
   "cell_type": "code",
   "execution_count": 9,
   "id": "996af0db",
   "metadata": {
    "scrolled": false
   },
   "outputs": [
    {
     "name": "stdout",
     "output_type": "stream",
     "text": [
      "----------start-----------\n",
      "{'answer_ipa': 'ɑnnjʌŋɑsɛjo', 'user_ipa': 'ɑnnjʌŋɑsɛjo', 'score': 1.0, 'summary': [[['ɑ', 'n'], ['ɑ', 'n'], 1.0], [['n', 'jʌ', 'ŋ'], ['n', 'jʌ', 'ŋ'], 1.0], [['ɑ'], ['ɑ'], 1.0], [['s', 'ɛ'], ['s', 'ɛ'], 1.0], [['jo'], ['jo'], 1.0]]}\n",
      "-----------end------------\n",
      "\n",
      "----------start-----------\n",
      "{'answer_ipa': 'ɑnnjʌŋɑsɛjo', 'user_ipa': 'ɑnnjʌŋɑsɛjo ɑnnjʌŋɑsɛjo', 'score': 1.0, 'summary': [[['ɑ', 'n'], ['ɑ', 'n'], 1.0], [['n', 'jʌ', 'ŋ'], ['n', 'jʌ', 'ŋ'], 1.0], [['ɑ'], ['ɑ'], 1.0], [['s', 'ɛ'], ['s', 'ɛ'], 1.0], [['jo'], ['jo'], 1.0]]}\n",
      "-----------end------------\n",
      "\n",
      "----------start-----------\n",
      "{'answer_ipa': 'ɑnnjʌŋɑsɛjo', 'user_ipa': 'ɑndɛʌmɑnsɛjo', 'score': 0.735495552825069, 'summary': [[['ɑ', 'n'], ['ɑ', 'n'], 1.0], [['n', 'jʌ', 'ŋ'], ['d', 'ɛ'], 0.24174132898071626], [['ɑ'], ['ʌ'], 0.868285123966942], [['ɑ'], ['m', 'ɑ', 'n'], 0.5710550103305786], [['s', 'ɛ'], ['s', 'ɛ'], 1.0], [['jo'], ['jo'], 1.0]]}\n",
      "-----------end------------\n",
      "\n",
      "----------start-----------\n",
      "{'answer_ipa': 'ɑnnjʌŋɑsɛjo', 'user_ipa': 'ɑnnjjmassɛjjo', 'score': 0.7227065944683195, 'summary': [[['ɑ', 'n'], ['ɑ', 'n'], 1.0], [['n', 'jʌ', 'ŋ'], ['n'], 0.1939823525068871], [['ɑ'], ['m', 'a', 's'], 0.4195506198347107], [['s', 'ɛ'], ['s', 'ɛ'], 1.0], [['jo'], ['jo'], 1.0]]}\n",
      "-----------end------------\n",
      "\n",
      "----------start-----------\n",
      "{'answer_ipa': 'ɑnnjʌŋɑsɛjo', 'user_ipa': 'hɑnnjjʌŋ kɑssɛjo', 'score': 0.7840457128099174, 'summary': [[['ɑ', 'n'], ['h', 'ɑ', 'n'], 0.5710550103305786], [['n', 'jʌ', 'ŋ'], ['n', 'jʌ', 'ŋ'], 1.0], [['ɑ'], ['k', 'ɑ', 's'], 0.3491735537190083], [['s', 'ɛ'], ['s', 'ɛ'], 1.0], [['jo'], ['jo'], 1.0]]}\n",
      "-----------end------------\n",
      "\n",
      "----------start-----------\n",
      "{'answer_ipa': 'ɑnnjʌŋɑsɛjo', 'user_ipa': 'mjjʌŋŋwadʑi  mjjʌŋŋɑɑndʑɛo', 'score': 0.5601851246099174, 'summary': [[['ɑ', 'n'], [], 0], [['n', 'jʌ', 'ŋ'], ['m', 'jʌ', 'ŋ'], 0.7557141012396693], [['ɑ'], ['ŋ'], 0.47265625], [['ɑ'], ['wa'], 0.8412058116528928], [['s', 'ɛ'], ['d', 'i'], 0.4963842975206612], [['jo'], ['m', 'jʌ', 'ŋ'], 0.4419227789256199]]}\n",
      "-----------end------------\n",
      "\n",
      "----------start-----------\n",
      "{'answer_ipa': 'ɑnnjʌŋɑsɛjo', 'user_ipa': 'a', 'score': 0.19796590997107436, 'summary': [[['ɑ', 'n'], [], 0], [['n', 'jʌ', 'ŋ'], [], 0], [['ɑ'], ['a'], 1.0], [['s', 'ɛ'], ['a'], 0.1953125], [['jo'], ['a'], 0.6025852331404958]]}\n",
      "-----------end------------\n",
      "\n",
      "----------start-----------\n",
      "{'answer_ipa': 'ɑnnjʌŋɑsɛjo', 'user_ipa': 'b', 'score': 0.10887782179958677, 'summary': [[['ɑ', 'n'], [], 0], [['n', 'jʌ', 'ŋ'], [], 0], [['ɑ'], ['b'], 0.32931947314049587], [['s', 'ɛ'], ['b'], 0.17796035640495866], [['jo'], ['b'], 0.4214842476033058]]}\n",
      "-----------end------------\n",
      "\n",
      "----------start-----------\n",
      "{'answer_ipa': 'ɑnnjʌŋɑsɛjo', 'user_ipa': ' ', 'score': 0.0, 'summary': [[['ɑ', 'n'], [], 0], [['n', 'jʌ', 'ŋ'], [], 0], [['ɑ'], [], 0], [['s', 'ɛ'], [], 0], [['jo'], [], 0]]}\n",
      "-----------end------------\n",
      "\n",
      "----------start-----------\n",
      "{'answer_ipa': 'ɑnnjʌŋɑsɛjo', 'user_ipa': '', 'score': 0.0, 'summary': [[['ɑ', 'n'], [], 0], [['n', 'jʌ', 'ŋ'], [], 0], [['ɑ'], [], 0], [['s', 'ɛ'], [], 0], [['jo'], [], 0]]}\n",
      "-----------end------------\n",
      "\n"
     ]
    }
   ],
   "source": [
    "# 발음 유사도 측정 (공백 제거 후)\n",
    "answer = \"ɑnnjʌŋɑsɛjo\"\n",
    "datas = [ \"ɑnnjʌŋɑsɛjo\", \"ɑnnjʌŋɑsɛjo ɑnnjʌŋɑsɛjo\", \"ɑndɛʌmɑnsɛjo\", \"ɑnnjjmassɛjjo\", \"hɑnnjjʌŋ kɑssɛjo\", \"mjjʌŋŋwadʑi  mjjʌŋŋɑɑndʑɛo\", \"a\", \"b\", \" \", \"\" ]\n",
    "\n",
    "for data in datas:\n",
    "    print(\"----------start-----------\")\n",
    "    print(get_score(answer, data, option=\"default\"))\n",
    "    print(\"-----------end------------\")\n",
    "    print()"
   ]
  },
  {
   "cell_type": "code",
   "execution_count": 10,
   "id": "35cce3b3",
   "metadata": {
    "scrolled": true
   },
   "outputs": [
    {
     "name": "stdout",
     "output_type": "stream",
     "text": [
      "70 점을 넘겨보세요!\n",
      "정답 IPA : ɑnnjʌŋɑsɛjo\n",
      "유저 IPA : hɑnnjjʌŋ kɑssɛjo\n",
      "점수 :78 점 입니다!\n",
      "피드백 :\n",
      "[1] hɑn 이 아닌 ɑn 입니다! (점수 : 57 점 입니다.)\n",
      "[2]  njʌŋ 완벽합니다!\n",
      "[3] kɑs 이 아닌 ɑ 입니다! (점수 : 34 점 입니다.)\n",
      "[4]  sɛ 완벽합니다!\n",
      "[5]  jo 완벽합니다!\n"
     ]
    }
   ],
   "source": [
    "answer_ipa = \"ɑnnjʌŋɑsɛjo\"\n",
    "user_ipa = \"hɑnnjjʌŋ kɑssɛjo\"\n",
    "\n",
    "result_dict = get_score(answer_ipa, user_ipa)\n",
    "\n",
    "print(\"70 점을 넘겨보세요!\")\n",
    "print(\"정답 IPA : \" + answer_ipa)\n",
    "print(\"유저 IPA : \" + user_ipa)\n",
    "print(\"점수 :\" + str(int(result_dict[\"score\"] * 100)) + \" 점 입니다!\")\n",
    "print(\"피드백 :\")\n",
    "\n",
    "for idx, feedback in enumerate(result_dict[\"summary\"], start=1):\n",
    "    if feedback[2] == 1:\n",
    "        print(\"[\" + str(idx) + \"] \", ''.join(feedback[0]) + \" 완벽합니다!\")\n",
    "    else:\n",
    "        print(\"[\" + str(idx) + \"] \" + ''.join(feedback[1]) + \" 이 아닌 \" + ''.join(feedback[0]) + \" 입니다! (점수 : \" + str(int(feedback[2] * 100)) + \" 점 입니다.)\")\n"
   ]
  },
  {
   "cell_type": "code",
   "execution_count": null,
   "id": "7e9a34ce",
   "metadata": {},
   "outputs": [],
   "source": []
  }
 ],
 "metadata": {
  "kernelspec": {
   "display_name": "Python 3 (ipykernel)",
   "language": "python",
   "name": "python3"
  },
  "language_info": {
   "codemirror_mode": {
    "name": "ipython",
    "version": 3
   },
   "file_extension": ".py",
   "mimetype": "text/x-python",
   "name": "python",
   "nbconvert_exporter": "python",
   "pygments_lexer": "ipython3",
   "version": "3.9.7"
  }
 },
 "nbformat": 4,
 "nbformat_minor": 5
}
