{
 "cells": [
  {
   "cell_type": "code",
   "execution_count": 44,
   "id": "4147c3fa",
   "metadata": {
    "scrolled": false
   },
   "outputs": [
    {
     "name": "stdout",
     "output_type": "stream",
     "text": [
      "    IPA           조음위치       조음방법       조음강도 유성음여부\n",
      "0     b       Bilabial    Plosive      Lenis   Yes\n",
      "1    bʰ       Bilabial    Plosive  Aspirated   Yes\n",
      "2    b*       Bilabial    Plosive     Fortis   Yes\n",
      "3     p       Bilabial    Plosive      Lenis    No\n",
      "4    pʰ       Bilabial    Plosive  Aspirated    No\n",
      "5    p*       Bilabial    Plosive     Fortis    No\n",
      "6     m       Bilabial      Nasal      Lenis   Yes\n",
      "7     d       Alveolar    Plosive      Lenis   Yes\n",
      "8    dʰ       Alveolar    Plosive  Aspirated   Yes\n",
      "9    d*       Alveolar    Plosive     Fortis   Yes\n",
      "10    t       Alveolar    Plosive      Lenis    No\n",
      "11   tʰ       Alveolar    Plosive  Aspirated    No\n",
      "12   t*       Alveolar    Plosive     Fortis    No\n",
      "13    s       Alveolar  Fricative  Aspirated    No\n",
      "14   s*       Alveolar  Fricative     Fortis    No\n",
      "15    n       Alveolar      Nasal      Lenis    No\n",
      "16    ɾ       Alveolar    Lateral      Lenis   Yes\n",
      "17    l       Alveolar    Lateral      Lenis    No\n",
      "18   dʑ  Alveo-Palatal  Affricate      Lenis   Yes\n",
      "19  dʑʰ  Alveo-Palatal  Affricate  Aspirated   Yes\n",
      "20  dʑ*  Alveo-Palatal  Affricate     Fortis   Yes\n",
      "21   tɕ  Alveo-Palatal  Affricate      Lenis    No\n",
      "22  tɕʰ  Alveo-Palatal  Affricate  Aspirated    No\n",
      "23  tɕ*  Alveo-Palatal  Affricate     Fortis    No\n",
      "24    ɡ          Velar    Plosive      Lenis   Yes\n",
      "25   ɡʰ          Velar    Plosive  Aspirated   Yes\n",
      "26   ɡ*          Velar    Plosive     Fortis   Yes\n",
      "27    k          Velar    Plosive      Lenis    No\n",
      "28   kʰ          Velar    Plosive  Aspirated    No\n",
      "29   k*          Velar    Plosive     Fortis    No\n",
      "30    ŋ          Velar      Nasal      Lenis   Yes\n",
      "31    h        Glottal  Fricative  Aspirated    No\n"
     ]
    }
   ],
   "source": [
    "import pandas as pd\n",
    "import matplotlib.pyplot as plt\n",
    "\n",
    "# 자음 기준 (중요성 있는 순서대로 나열)\n",
    "# 1. 조음 위치\n",
    "# 2. 조음 방법\n",
    "# 3. 조음 강도\n",
    "# 4. 유성음 여부\n",
    "\n",
    "# Position (Bilabial) 0 --- 1 (Glottal)\n",
    "conso_pos = { \"Bilabial\": 0, \"Alveolar\": 0.25, \"Alveo-Palatal\": 0.5, \"Velar\": 0.75, \"Glottal\": 1 }\n",
    "# HowToPronunce (Plosive) 1 --- 0 (Lateral)\n",
    "# 파열음(ㅂ, ㅍ, ㅃ, ㄷ, ㅌ, ㄸ, ㄱ, ㅋ, ㄲ), 마찰음(ㅅ, ㅆ, ㅎ), 파찰음(ㅈ, ㅊ, ㅉ), 비음(ㅁ, ㄴ, ㅇ), 유음(ㄹ)\n",
    "conso_how = { \"Plosive\": 1, \"Fricative\": 0.75, \"Affricate\": 0.5, \"Nasal\": 0.25, \"Lateral\": 0 }\n",
    "# Strength (Lenis) 0 --- 1 (Fortis)\n",
    "conso_str = { \"Lenis\": 0, \"Aspirated\": 0.5, \"Fortis\": 1 }\n",
    "# Voice or not (Yes) 1 --- 0 (No)\n",
    "# 유성음인지 아닌지 구분\n",
    "conso_voi = { \"Yes\": 1, \"No\": 0 }\n",
    "\n",
    "consonants = pd.read_csv(\"csv/consonants.csv\")\n",
    "consonants[\"조음강도\"] = consonants[\"조음강도\"].replace(\"None\", \"Lenis\") # None -> Lenis\n",
    "print(consonants)"
   ]
  },
  {
   "cell_type": "code",
   "execution_count": 45,
   "id": "59acb161",
   "metadata": {},
   "outputs": [
    {
     "name": "stdout",
     "output_type": "stream",
     "text": [
      "[[[0.25, 0.25, 0, 0], [0.75, 0.25, 0, 1], [0.25, 0.75, 0.5, 0]], [[0.25, 0.25, 0, 0], [0.25, 1, 0, 1], [0, 0.25, 0, 1], [0.25, 0.25, 0, 0], [0.25, 0.75, 0.5, 0]], [[0.25, 0.25, 0, 0], [0, 0.25, 0, 1], [0.25, 0.75, 0.5, 0]], [[1, 0.75, 0.5, 0], [0.25, 0.25, 0, 0], [0.75, 0.25, 0, 1], [0.75, 1, 0, 0], [0.25, 0.75, 0.5, 0]], [[0, 0.25, 0, 1], [0.75, 0.25, 0, 1], [0.25, 1, 0, 1], [0, 0.25, 0, 1], [0.75, 0.25, 0, 1], [0.25, 0.25, 0, 0], [0.5, 0.5, 0, 1]]]\n"
     ]
    }
   ],
   "source": [
    "# 입력된 문자열에서 자음 데이터만으로 조음 기관의 움직임 파악한다.\n",
    "\n",
    "datas = [ \"ɑnnjʌŋɑsɛjo\", \"ɑndɛʌmɑnsɛjjo\", \"ɑnnjjmassɛjjo\", \"hɑnnjjʌŋ kɑssɛjo\", \"mjjʌŋŋwadʑi  mjjʌŋŋɑɑndʑɛo\" ]\n",
    "value_of_data = []\n",
    "\n",
    "# datas 에서 각 문자열에 대한 조음위치와 조음방법과 조음강도에 대한 수치를 저장한다.\n",
    "for data in datas:\n",
    "    values = []\n",
    "    idx = 0\n",
    "    while idx < len(data):\n",
    "        ch = data[idx]\n",
    "        skip = True\n",
    "        for ipa in list(consonants[\"IPA\"]):\n",
    "            if data[idx:idx+len(ipa)] == ipa:\n",
    "                skip = False\n",
    "                conso_pos_ = conso_pos[consonants.loc[consonants[\"IPA\"] == ipa][\"조음위치\"].iloc[0]]\n",
    "                conso_how_ = conso_how[consonants.loc[consonants[\"IPA\"] == ipa][\"조음방법\"].iloc[0]]\n",
    "                conso_str_ = conso_str[consonants.loc[consonants[\"IPA\"] == ipa][\"조음강도\"].iloc[0]]\n",
    "                conso_voi_ = conso_voi[consonants.loc[consonants[\"IPA\"] == ipa][\"유성음여부\"].iloc[0]]\n",
    "                value = [conso_pos_, conso_how_, conso_str_, conso_voi_]\n",
    "                if len(values) == 0 or values[-1] != value:\n",
    "                    values.append(value)\n",
    "                idx += len(ipa)\n",
    "        if skip == True:\n",
    "            idx += 1\n",
    "    value_of_data.append(values)\n",
    "            \n",
    "print(value_of_data)"
   ]
  },
  {
   "cell_type": "code",
   "execution_count": 46,
   "id": "e99935ec",
   "metadata": {
    "scrolled": true
   },
   "outputs": [
    {
     "data": {
      "image/png": "[encoded data removed]",
      "text/plain": [
       "<Figure size 432x288 with 20 Axes>"
      ]
     },
     "metadata": {
      "needs_background": "light"
     },
     "output_type": "display_data"
    }
   ],
   "source": [
    "for idx, values in enumerate(value_of_data):\n",
    "    conso_pos_list = [ value[0] for value in values ]\n",
    "    conso_how_list = [ value[1] for value in values ]\n",
    "    conso_str_list = [ value[2] for value in values ]\n",
    "    conso_voi_list = [ value[3] for value in values ]\n",
    "    \n",
    "    # 조음위치\n",
    "    plt.subplot(len(value_of_data), 4, idx*4 + 1)\n",
    "    plt.plot(conso_pos_list)\n",
    "\n",
    "    # 조음방법\n",
    "    plt.subplot(len(value_of_data), 4, idx*4 + 2)\n",
    "    plt.plot(conso_how_list)\n",
    "\n",
    "    # 조음강도\n",
    "    plt.subplot(len(value_of_data), 4, idx*4 + 3)\n",
    "    plt.plot(conso_str_list)\n",
    "    \n",
    "    # 유성음여부\n",
    "    plt.subplot(len(value_of_data), 4, idx*4 + 4)\n",
    "    plt.plot(conso_voi_list)\n",
    "    \n",
    "plt.show()"
   ]
  },
  {
   "cell_type": "code",
   "execution_count": 47,
   "id": "ae5497bf",
   "metadata": {},
   "outputs": [
    {
     "name": "stdout",
     "output_type": "stream",
     "text": [
      "   IPA    조음상하위치      조음좌우위치               입술모양\n",
      "0    i      High       Front          Unrounded\n",
      "1    ɯ      High        Back          Unrounded\n",
      "2    u      High        Back            Rounded\n",
      "3    ɛ       Mid       Front          Unrounded\n",
      "4    ʌ       Mid        Back          Unrounded\n",
      "5    o       Mid        Back            Rounded\n",
      "6    ɑ       Low        Back          Unrounded\n",
      "7    a       Low        Back          Unrounded\n",
      "8   ju      High  Front+Back            Rounded\n",
      "9   jʌ  High+Mid  Front+Back          Unrounded\n",
      "10  jo  High+Mid  Front+Back            Rounded\n",
      "11  jɛ  High+Mid  Front+Back          Unrounded\n",
      "12  ja  High+Low  Front+Back          Unrounded\n",
      "13  wi      High  Back+Front  Rounded+Unrounded\n",
      "14  wʌ  High+Mid        Back  Rounded+Unrounded\n",
      "15  wɛ  High+Mid  Back+Front  Rounded+Unrounded\n",
      "16  wa   Mid+Low        Back  Rounded+Unrounded\n",
      "17  ɰi      High  Back+Front  Unrounded+Rounded\n"
     ]
    }
   ],
   "source": [
    "import pandas as pd\n",
    "import matplotlib.pyplot as plt\n",
    "\n",
    "# 모음 기준 (중요성 있는 순서대로 나열)\n",
    "# 1. 입술 모양\n",
    "# 2. 조음 좌우 위치\n",
    "# 3. 조음 상하 위치\n",
    "\n",
    "# shape (Unrounded) 0 --- 1 (Rounded)\n",
    "vowel_shp = { \"Unrounded\": 0, \"Rounded+Unrounded\": 0.33, \"Unrounded+Rounded\": 0.66, \"Rounded\": 1 }\n",
    "# width position (Front) 0 --- 1 (Back)\n",
    "vowel_wps = { \"Front\": 0, \"Back+Front\": 0.33, \"Front+Back\": 0.66, \"Back\": 1 }\n",
    "# height position (Low) 0 --- 1 (High)\n",
    "vowel_hps = { \"Low\": 0, \"Mid+Low\": 0.2, \"High+Low\": 0.3, \"Mid\": 0.5, \"High+Mid\": 0.7, \"High\": 1 }\n",
    "\n",
    "vowels = pd.read_csv(\"csv/vowels.csv\")\n",
    "print(vowels)"
   ]
  },
  {
   "cell_type": "code",
   "execution_count": 48,
   "id": "9d71d64a",
   "metadata": {},
   "outputs": [
    {
     "name": "stdout",
     "output_type": "stream",
     "text": [
      "[[[0, 1, 0], [0, 0.66, 0.7], [0, 1, 0], [0, 0, 0.5], [1, 0.66, 0.7]], [[0, 1, 0], [0, 0, 0.5], [0, 1, 0.5], [0, 1, 0], [0, 0, 0.5], [1, 0.66, 0.7]], [[0, 1, 0], [0, 0, 0.5], [1, 0.66, 0.7]], [[0, 1, 0], [0, 0.66, 0.7], [0, 1, 0], [0, 0, 0.5], [1, 0.66, 0.7]], [[0, 0.66, 0.7], [0.33, 1, 0.2], [0, 0, 1], [0, 0.66, 0.7], [0, 1, 0], [0, 0, 0.5], [1, 1, 0.5]]]\n"
     ]
    }
   ],
   "source": [
    "# 입력된 문자열에서 자음 데이터만으로 조음 기관의 움직임 파악한다.\n",
    "\n",
    "datas = [ \"ɑnnjʌŋɑsɛjo\", \"ɑndɛʌmɑnsɛjjo\", \"ɑnnjjmassɛjjo\", \"hɑnnjjʌŋ kɑssɛjo\", \"mjjʌŋŋwadʑi  mjjʌŋŋɑɑndʑɛo\" ]\n",
    "value_of_data = []\n",
    "\n",
    "# datas 에서 각 문자열에 대한 입술 모양, 조음 좌우 위치, 조음 상하 위치에 대한 수치를 저장한다.\n",
    "for data in datas:\n",
    "    values = []\n",
    "    idx = 0\n",
    "    while idx < len(data):\n",
    "        ch = data[idx]\n",
    "        skip = True\n",
    "        for ipa in list(vowels[\"IPA\"]):\n",
    "            if data[idx:idx+len(ipa)] == ipa:\n",
    "                skip = False\n",
    "                vowel_shp_ = vowel_shp[vowels.loc[vowels[\"IPA\"] == ipa][\"입술모양\"].iloc[0]]\n",
    "                vowel_wps_ = vowel_wps[vowels.loc[vowels[\"IPA\"] == ipa][\"조음좌우위치\"].iloc[0]]\n",
    "                vowel_hps_ = vowel_hps[vowels.loc[vowels[\"IPA\"] == ipa][\"조음상하위치\"].iloc[0]]\n",
    "                value = [vowel_shp_, vowel_wps_, vowel_hps_]\n",
    "                if len(values) == 0 or values[-1] != value:\n",
    "                    values.append(value)\n",
    "                idx += len(ipa)\n",
    "        if skip == True:\n",
    "            idx += 1\n",
    "    value_of_data.append(values)\n",
    "            \n",
    "print(value_of_data)"
   ]
  },
  {
   "cell_type": "code",
   "execution_count": 49,
   "id": "7a43c4fd",
   "metadata": {},
   "outputs": [
    {
     "data": {
      "image/png": "[encoded data removed]",
      "text/plain": [
       "<Figure size 432x288 with 15 Axes>"
      ]
     },
     "metadata": {
      "needs_background": "light"
     },
     "output_type": "display_data"
    }
   ],
   "source": [
    "for idx, values in enumerate(value_of_data):\n",
    "    vowel_shp_list = [ value[0] for value in values ]\n",
    "    vowel_wps_list = [ value[1] for value in values ]\n",
    "    vowel_hps_list = [ value[2] for value in values ]\n",
    "\n",
    "    # 입술 모양\n",
    "    plt.subplot(len(value_of_data), 3, idx*3 + 1)\n",
    "    plt.plot(vowel_shp_list)\n",
    "\n",
    "    # 조음 좌우 위치\n",
    "    plt.subplot(len(value_of_data), 3, idx*3 + 2)\n",
    "    plt.plot(vowel_wps_list)\n",
    "\n",
    "    # 조음 상하 위치\n",
    "    plt.subplot(len(value_of_data), 3, idx*3 + 3)\n",
    "    plt.plot(vowel_hps_list)\n",
    "\n",
    "plt.show()"
   ]
  },
  {
   "cell_type": "code",
   "execution_count": 35,
   "id": "bb1632a8",
   "metadata": {},
   "outputs": [],
   "source": [
    "# 여기까지 자음, 모음에 대한 독립적인 분석이었고, 아래부터는 자음+모음이 합쳐진 상태에서 분석 진행하는 것임."
   ]
  },
  {
   "cell_type": "code",
   "execution_count": 40,
   "id": "84084628",
   "metadata": {
    "scrolled": false
   },
   "outputs": [
    {
     "name": "stdout",
     "output_type": "stream",
     "text": [
      "[[[0, 1, 0], [0.25, 0.25, 0, 0], [0, 0.66, 0.7], [0.75, 0.25, 0, 1], [0, 1, 0], [0.25, 0.75, 0.5, 0], [0, 0, 0.5], [1, 0.66, 0.7]], [[0, 1, 0], [0.25, 0.25, 0, 0], [0.25, 1, 0, 1], [0, 0, 0.5], [0, 1, 0.5], [0, 0.25, 0, 1], [0, 1, 0], [0.25, 0.25, 0, 0], [0.25, 0.75, 0.5, 0], [0, 0, 0.5], [1, 0.66, 0.7]], [[0, 1, 0], [0.25, 0.25, 0, 0], [0, 0.25, 0, 1], [0, 1, 0], [0.25, 0.75, 0.5, 0], [0, 0, 0.5], [1, 0.66, 0.7]], [[1, 0.75, 0.5, 0], [0, 1, 0], [0.25, 0.25, 0, 0], [0, 0.66, 0.7], [0.75, 0.25, 0, 1], [0.75, 1, 0, 0], [0, 1, 0], [0.25, 0.75, 0.5, 0], [0, 0, 0.5], [1, 0.66, 0.7]], [[0, 0.25, 0, 1], [0, 0.66, 0.7], [0.75, 0.25, 0, 1], [0.33, 1, 0.2], [0.25, 1, 0, 1], [0, 0, 1], [0, 0.25, 0, 1], [0, 0.66, 0.7], [0.75, 0.25, 0, 1], [0, 1, 0], [0.25, 0.25, 0, 0], [0.5, 0.5, 0, 1], [0, 0, 0.5], [1, 1, 0.5]]]\n",
      "[['V', 'C', 'V', 'C', 'V', 'C', 'V', 'V'], ['V', 'C', 'C', 'V', 'V', 'C', 'V', 'C', 'C', 'V', 'V'], ['V', 'C', 'C', 'V', 'C', 'V', 'V'], ['C', 'V', 'C', 'V', 'C', 'C', 'V', 'C', 'V', 'V'], ['C', 'V', 'C', 'V', 'C', 'V', 'C', 'V', 'C', 'V', 'C', 'C', 'V', 'V']]\n",
      "[['ɑ', 'n', 'jʌ', 'ŋ', 'ɑ', 's', 'ɛ', 'jo'], ['ɑ', 'n', 'd', 'ɛ', 'ʌ', 'm', 'ɑ', 'n', 's', 'ɛ', 'jo'], ['ɑ', 'n', 'm', 'a', 's', 'ɛ', 'jo'], ['h', 'ɑ', 'n', 'jʌ', 'ŋ', 'k', 'ɑ', 's', 'ɛ', 'jo'], ['m', 'jʌ', 'ŋ', 'wa', 'd', 'i', 'm', 'jʌ', 'ŋ', 'ɑ', 'n', 'dʑ', 'ɛ', 'o']]\n"
     ]
    }
   ],
   "source": [
    "datas = [ \"ɑnnjʌŋɑsɛjo\", \"ɑndɛʌmɑnsɛjjo\", \"ɑnnjjmassɛjjo\", \"hɑnnjjʌŋ kɑssɛjo\", \"mjjʌŋŋwadʑi  mjjʌŋŋɑɑndʑɛo\" ]\n",
    "\n",
    "values_of_datas = []\n",
    "types_of_datas = []\n",
    "origs_of_datas = []\n",
    "\n",
    "# data 에서 각 IPA 문자에 대응되는 수치를 저장한다.\n",
    "def mapping_ipa_with_value(data):\n",
    "    values = []\n",
    "    types = []\n",
    "    origs = []\n",
    "    idx = 0\n",
    "    while idx < len(data):\n",
    "        ch = data[idx]\n",
    "        skip = True\n",
    "        for ipa in list(consonants[\"IPA\"]):\n",
    "            if data[idx:idx+len(ipa)] == ipa:\n",
    "                skip = False\n",
    "                conso_pos_ = conso_pos[consonants.loc[consonants[\"IPA\"] == ipa][\"조음위치\"].iloc[0]]\n",
    "                conso_how_ = conso_how[consonants.loc[consonants[\"IPA\"] == ipa][\"조음방법\"].iloc[0]]\n",
    "                conso_str_ = conso_str[consonants.loc[consonants[\"IPA\"] == ipa][\"조음강도\"].iloc[0]]\n",
    "                conso_voi_ = conso_voi[consonants.loc[consonants[\"IPA\"] == ipa][\"유성음여부\"].iloc[0]]\n",
    "                value = [conso_pos_, conso_how_, conso_str_, conso_voi_]\n",
    "                if len(values) == 0 or values[-1] != value:\n",
    "                    values.append(value)\n",
    "                    types.append(\"C\") # Consonants\n",
    "                    origs.append(ipa)\n",
    "                idx += len(ipa)\n",
    "        for ipa in list(vowels[\"IPA\"]):\n",
    "            if data[idx:idx+len(ipa)] == ipa:\n",
    "                skip = False\n",
    "                vowel_shp_ = vowel_shp[vowels.loc[vowels[\"IPA\"] == ipa][\"입술모양\"].iloc[0]]\n",
    "                vowel_wps_ = vowel_wps[vowels.loc[vowels[\"IPA\"] == ipa][\"조음좌우위치\"].iloc[0]]\n",
    "                vowel_hps_ = vowel_hps[vowels.loc[vowels[\"IPA\"] == ipa][\"조음상하위치\"].iloc[0]]\n",
    "                value = [vowel_shp_, vowel_wps_, vowel_hps_]\n",
    "                if len(values) == 0 or values[-1] != value:\n",
    "                    values.append(value)\n",
    "                    types.append(\"V\") # Vowels\n",
    "                    origs.append(ipa)\n",
    "                idx += len(ipa)\n",
    "        if skip == True:\n",
    "            idx += 1\n",
    "    return values, types, origs\n",
    "    \n",
    "# datas 에서 각 IPA 문자에 대응되는 수치를 저장한다.\n",
    "for data in datas:\n",
    "    values, types, origs = mapping_ipa_with_value(data)\n",
    "    values_of_datas.append(values)\n",
    "    types_of_datas.append(types)\n",
    "    origs_of_datas.append(origs)\n",
    "            \n",
    "print(values_of_datas)\n",
    "print(types_of_datas)\n",
    "print(origs_of_datas)"
   ]
  },
  {
   "cell_type": "code",
   "execution_count": 42,
   "id": "9abff668",
   "metadata": {
    "scrolled": true
   },
   "outputs": [
    {
     "name": "stdout",
     "output_type": "stream",
     "text": [
      "[[[[0, 1, 0]], [[0.25, 0.25, 0, 0]], [[0, 0.66, 0.7]], [[0.75, 0.25, 0, 1]], [[0, 1, 0]], [[0.25, 0.75, 0.5, 0]], [[0, 0, 0.5], [1, 0.66, 0.7]]], [[[0, 1, 0]], [[0.25, 0.25, 0, 0], [0.25, 1, 0, 1]], [[0, 0, 0.5], [0, 1, 0.5]], [[0, 0.25, 0, 1]], [[0, 1, 0]], [[0.25, 0.25, 0, 0], [0.25, 0.75, 0.5, 0]], [[0, 0, 0.5], [1, 0.66, 0.7]]], [[[0, 1, 0]], [[0.25, 0.25, 0, 0], [0, 0.25, 0, 1]], [[0, 1, 0]], [[0.25, 0.75, 0.5, 0]], [[0, 0, 0.5], [1, 0.66, 0.7]]], [[[1, 0.75, 0.5, 0]], [[0, 1, 0]], [[0.25, 0.25, 0, 0]], [[0, 0.66, 0.7]], [[0.75, 0.25, 0, 1], [0.75, 1, 0, 0]], [[0, 1, 0]], [[0.25, 0.75, 0.5, 0]], [[0, 0, 0.5], [1, 0.66, 0.7]]], [[[0, 0.25, 0, 1]], [[0, 0.66, 0.7]], [[0.75, 0.25, 0, 1]], [[0.33, 1, 0.2]], [[0.25, 1, 0, 1]], [[0, 0, 1]], [[0, 0.25, 0, 1]], [[0, 0.66, 0.7]], [[0.75, 0.25, 0, 1]], [[0, 1, 0]], [[0.25, 0.25, 0, 0], [0.5, 0.5, 0, 1]], [[0, 0, 0.5], [1, 1, 0.5]]]]\n",
      "[['V', 'C', 'V', 'C', 'V', 'C', 'V'], ['V', 'C', 'V', 'C', 'V', 'C', 'V'], ['V', 'C', 'V', 'C', 'V'], ['C', 'V', 'C', 'V', 'C', 'V', 'C', 'V'], ['C', 'V', 'C', 'V', 'C', 'V', 'C', 'V', 'C', 'V', 'C', 'V']]\n",
      "[[['ɑ'], ['n'], ['jʌ'], ['ŋ'], ['ɑ'], ['s'], ['ɛ', 'jo']], [['ɑ'], ['n', 'd'], ['ɛ', 'ʌ'], ['m'], ['ɑ'], ['n', 's'], ['ɛ', 'jo']], [['ɑ'], ['n', 'm'], ['a'], ['s'], ['ɛ', 'jo']], [['h'], ['ɑ'], ['n'], ['jʌ'], ['ŋ', 'k'], ['ɑ'], ['s'], ['ɛ', 'jo']], [['m'], ['jʌ'], ['ŋ'], ['wa'], ['d'], ['i'], ['m'], ['jʌ'], ['ŋ'], ['ɑ'], ['n', 'dʑ'], ['ɛ', 'o']]]\n"
     ]
    }
   ],
   "source": [
    "# 연속된 자음 혹은 모음에 대하여 연속적인 데이터를 바탕으로 벡터화 진행\n",
    "# (한 자음이 길게 발음된 경우와 한 번에 자음이 여러 개 발음된 경우 판별해야 하므로 합침)\n",
    "\n",
    "new_values_of_datas = []\n",
    "new_types_of_datas = []\n",
    "new_origs_of_datas = []\n",
    "\n",
    "# V, C Concatenation 및 Vectorization 진행 (리스트 원소가 1차에서 2차로 변형됨)\n",
    "def combine_cont_ipa(values, types, origs):\n",
    "    new_values = []\n",
    "    new_types = []\n",
    "    new_origs = []\n",
    "    prev_type = None\n",
    "    \n",
    "    for idx in range(len(types)):\n",
    "        if prev_type == None or prev_type != types[idx]:\n",
    "            new_values.append([ values[idx] ])\n",
    "            new_types.append(types[idx])\n",
    "            new_origs.append([ origs[idx] ])\n",
    "        elif prev_type == types[idx]:\n",
    "            new_values[-1].append(values[idx])\n",
    "            new_origs[-1].append(origs[idx])\n",
    "        \n",
    "        prev_type = types[idx]\n",
    "        \n",
    "    return new_values, new_types, new_origs\n",
    "\n",
    "for idx in range(len(types_of_datas)):\n",
    "    new_values, new_types, new_origs = combine_cont_ipa(values_of_datas[idx], types_of_datas[idx], origs_of_datas[idx])\n",
    "    new_values_of_datas.append(new_values)\n",
    "    new_types_of_datas.append(new_types)\n",
    "    new_origs_of_datas.append(new_origs)\n",
    "\n",
    "print(new_values_of_datas)\n",
    "print(new_types_of_datas)\n",
    "print(new_origs_of_datas)"
   ]
  },
  {
   "cell_type": "code",
   "execution_count": 29,
   "id": "d807646e",
   "metadata": {
    "scrolled": true
   },
   "outputs": [
    {
     "name": "stdout",
     "output_type": "stream",
     "text": [
      "1.0\n",
      "0.5\n",
      "0.3125\n",
      "1.0\n",
      "0.7083333333333333\n"
     ]
    }
   ],
   "source": [
    "# 두 value 사이에서의 distance 를 구하는 함수 (1차원)\n",
    "def get_distance_1d(value_1, value_2):\n",
    "    assert isinstance(value_1, list), \"1차원 리스트에 대한 입력값만 지원합니다\"\n",
    "    assert not isinstance(value_1[0], list), \"1차원 리스트에 대한 입력값만 지원합니다\"\n",
    "    assert isinstance(value_2, list), \"1차원 리스트에 대한 입력값만 지원합니다\"\n",
    "    assert not isinstance(value_2[0], list), \"1차원 리스트에 대한 입력값만 지원합니다\"\n",
    "    \n",
    "    # value_1 과 value_2 의 원소 배열 크기가 다른 경우, max distance (=1) 반환함.\n",
    "    if len(value_1) != len(value_2):\n",
    "        return 1 # max distance 반환\n",
    "    \n",
    "    distance = 0\n",
    "    max_score_of_one = 1 / len(value_1)\n",
    "    \n",
    "    for idx in range(len(value_1)):\n",
    "        distance += abs(value_1[idx] - value_2[idx]) * max_score_of_one\n",
    "    \n",
    "    return distance\n",
    "\n",
    "print(get_distance_1d([0, 1, 1, 0], [1, 0, 0, 1]))\n",
    "print(get_distance_1d([0, 1, 1, 1], [1, 0, 1, 1]))\n",
    "print(get_distance_1d([0, 0.5, 0.25, 0.5], [0, 0, 0, 1]))\n",
    "\n",
    "\n",
    "# 두 value 사이에서의 distance 를 구하는 함수 (2차원)\n",
    "def get_distance_2d(value_1, value_2):\n",
    "    assert isinstance(value_1, list), \"2차원 리스트에 대한 입력값만 지원합니다\"\n",
    "    assert isinstance(value_1[0], list), \"2차원 리스트에 대한 입력값만 지원합니다\"\n",
    "    assert not isinstance(value_1[0][0], list), \"2차원 리스트에 대한 입력값만 지원합니다\"\n",
    "    assert isinstance(value_2, list), \"2차원 리스트에 대한 입력값만 지원합니다\"\n",
    "    assert isinstance(value_2[0], list), \"2차원 리스트에 대한 입력값만 지원합니다\"\n",
    "    assert not isinstance(value_2[0][0], list), \"2차원 리스트에 대한 입력값만 지원합니다\"\n",
    "    \n",
    "    # value_1 과 value_2 의 원소 배열 크기가 다른 경우, max distance (=1) 반환함.\n",
    "    if len(value_1[0]) != len(value_2[0]):\n",
    "        return 1 # max distance 반환\n",
    "    \n",
    "    distance = 0\n",
    "    feature_length = len(value_1[0])\n",
    "    data_length_1 = len(value_1)\n",
    "    data_length_2 = len(value_2)\n",
    "    max_score_of_one = 1 / feature_length\n",
    "    \n",
    "    sum_of_value_1 = [ 0 ] * feature_length\n",
    "    sum_of_value_2 = [ 0 ] * feature_length\n",
    "    \n",
    "    for feature_idx in range(feature_length):\n",
    "        for data_idx in range(data_length_1):\n",
    "            sum_of_value_1[feature_idx] += value_1[data_idx][feature_idx]\n",
    "        for data_idx in range(data_length_2):\n",
    "            sum_of_value_2[feature_idx] += value_2[data_idx][feature_idx]\n",
    "    \n",
    "    avg_of_value_1 = [ _ / data_length_1 for _ in sum_of_value_1 ]\n",
    "    avg_of_value_2 = [ _ / data_length_2 for _ in sum_of_value_2 ]\n",
    "\n",
    "    for idx in range(feature_length):\n",
    "        distance += abs(avg_of_value_1[idx] - avg_of_value_2[idx]) * max_score_of_one\n",
    "    \n",
    "    return distance\n",
    "\n",
    "print(get_distance_2d([[0, 1, 1, 0]], [[1, 0, 0, 1]]))\n",
    "print(get_distance_2d([[1, 0, 5, 0], [0, 3, 0, 0], [1, 0, 0, 0]], [[1, 0, 0, 0], [0, 0, 0, 0]]))\n",
    "    \n",
    "\n",
    "# 두 values 사이에서 distance 가 가장 작은 매핑값 바탕으로 채점 진행\n",
    "def get_similarity(values_1, types_1, values_2, types_2):\n",
    "    pass\n",
    "    \n",
    "    "
   ]
  },
  {
   "cell_type": "code",
   "execution_count": null,
   "id": "996af0db",
   "metadata": {},
   "outputs": [],
   "source": [
    "# 발음 유사도 측정\n",
    "answer = \"ɑnnjʌŋɑsɛjo\"\n",
    "datas = [ \"ɑnnjʌŋɑsɛjo\", \"ɑndɛʌmɑnsɛjjo\", \"ɑnnjjmassɛjjo\", \"hɑnnjjʌŋ kɑssɛjo\", \"mjjʌŋŋwadʑi  mjjʌŋŋɑɑndʑɛo\" ]\n",
    "\n"
   ]
  }
 ],
 "metadata": {
  "kernelspec": {
   "display_name": "Python 3 (ipykernel)",
   "language": "python",
   "name": "python3"
  },
  "language_info": {
   "codemirror_mode": {
    "name": "ipython",
    "version": 3
   },
   "file_extension": ".py",
   "mimetype": "text/x-python",
   "name": "python",
   "nbconvert_exporter": "python",
   "pygments_lexer": "ipython3",
   "version": "3.9.7"
  }
 },
 "nbformat": 4,
 "nbformat_minor": 5
}
