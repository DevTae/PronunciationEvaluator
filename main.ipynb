{
 "cells": [
  {
   "cell_type": "code",
   "execution_count": 1,
   "id": "4147c3fa",
   "metadata": {
    "scrolled": false
   },
   "outputs": [
    {
     "name": "stdout",
     "output_type": "stream",
     "text": [
      "    IPA           조음위치       조음방법       조음강도 유성음여부\n",
      "0     b       Bilabial    Plosive      Lenis   Yes\n",
      "1    bʰ       Bilabial    Plosive  Aspirated   Yes\n",
      "2    b*       Bilabial    Plosive     Fortis   Yes\n",
      "3     p       Bilabial    Plosive      Lenis    No\n",
      "4    pʰ       Bilabial    Plosive  Aspirated    No\n",
      "5    p*       Bilabial    Plosive     Fortis    No\n",
      "6     m       Bilabial      Nasal      Lenis   Yes\n",
      "7     d       Alveolar    Plosive      Lenis   Yes\n",
      "8    dʰ       Alveolar    Plosive  Aspirated   Yes\n",
      "9    d*       Alveolar    Plosive     Fortis   Yes\n",
      "10    t       Alveolar    Plosive      Lenis    No\n",
      "11   tʰ       Alveolar    Plosive  Aspirated    No\n",
      "12   t*       Alveolar    Plosive     Fortis    No\n",
      "13    s       Alveolar  Fricative  Aspirated    No\n",
      "14   s*       Alveolar  Fricative     Fortis    No\n",
      "15    n       Alveolar      Nasal      Lenis    No\n",
      "16    ɾ       Alveolar    Lateral      Lenis   Yes\n",
      "17    l       Alveolar    Lateral      Lenis    No\n",
      "18   dʑ  Alveo-Palatal  Affricate      Lenis   Yes\n",
      "19  dʑʰ  Alveo-Palatal  Affricate  Aspirated   Yes\n",
      "20  dʑ*  Alveo-Palatal  Affricate     Fortis   Yes\n",
      "21   tɕ  Alveo-Palatal  Affricate      Lenis    No\n",
      "22  tɕʰ  Alveo-Palatal  Affricate  Aspirated    No\n",
      "23  tɕ*  Alveo-Palatal  Affricate     Fortis    No\n",
      "24    ɡ          Velar    Plosive      Lenis   Yes\n",
      "25   ɡʰ          Velar    Plosive  Aspirated   Yes\n",
      "26   ɡ*          Velar    Plosive     Fortis   Yes\n",
      "27    k          Velar    Plosive      Lenis    No\n",
      "28   kʰ          Velar    Plosive  Aspirated    No\n",
      "29   k*          Velar    Plosive     Fortis    No\n",
      "30    ŋ          Velar      Nasal      Lenis   Yes\n",
      "31    h        Glottal  Fricative  Aspirated    No\n"
     ]
    }
   ],
   "source": [
    "import pandas as pd\n",
    "import matplotlib.pyplot as plt\n",
    "\n",
    "# 자음 기준 (중요성 있는 순서대로 나열)\n",
    "# 1. 조음 위치, 유성음 여부\n",
    "# 2. 조음 방법, 조음 강도\n",
    "\n",
    "# Position (Bilabial) -0.5 --- 0.5 (Glottal)\n",
    "conso_pos = { \"Bilabial\": -0.5, \"Alveolar\": -0.25, \"Alveo-Palatal\": 0, \"Velar\": 0.25, \"Glottal\": 0.5 }\n",
    "# HowToPronunce (Plosive) 0.75 --- -0.25 (Lateral)\n",
    "# 파열음(ㅂ, ㅍ, ㅃ, ㄷ, ㅌ, ㄸ, ㄱ, ㅋ, ㄲ), 마찰음(ㅅ, ㅆ, ㅎ), 파찰음(ㅈ, ㅊ, ㅉ), 비음(ㅁ, ㄴ, ㅇ), 유음(ㄹ)\n",
    "conso_how = { \"Plosive\": 0.75, \"Fricative\": 0.25, \"Affricate\": 0.5, \"Nasal\": 0, \"Lateral\": -0.25 }\n",
    "# Strength (Lenis) 0 --- 1 (Fortis)\n",
    "conso_str = { \"Lenis\": 0, \"Aspirated\": 0.5, \"Fortis\": 1 }\n",
    "# Voice or not (Yes) 0.5 --- -0.5 (No)\n",
    "# 유성음인지 아닌지 구분\n",
    "conso_voi = { \"Yes\": 0.5, \"No\": -0.5 }\n",
    "\n",
    "consonants = pd.read_csv(\"csv/consonants.csv\")\n",
    "consonants[\"조음강도\"] = consonants[\"조음강도\"].replace(\"None\", \"Lenis\") # None -> Lenis\n",
    "print(consonants)"
   ]
  },
  {
   "cell_type": "code",
   "execution_count": 2,
   "id": "59acb161",
   "metadata": {},
   "outputs": [
    {
     "name": "stdout",
     "output_type": "stream",
     "text": [
      "[[[-0.25, 0, 0, -0.5], [-0.25, 0, 0, -0.5], [0.25, 0, 0, 0.5], [-0.25, 0.25, 0.5, -0.5]], [[-0.25, 0, 0, -0.5], [-0.25, 0.75, 0, 0.5], [-0.5, 0, 0, 0.5], [-0.25, 0, 0, -0.5], [-0.25, 0.25, 0.5, -0.5]], [[-0.25, 0, 0, -0.5], [-0.25, 0, 0, -0.5], [-0.5, 0, 0, 0.5], [-0.25, 0.25, 0.5, -0.5], [-0.25, 0.25, 0.5, -0.5]], [[0.5, 0.25, 0.5, -0.5], [-0.25, 0, 0, -0.5], [-0.25, 0, 0, -0.5], [0.25, 0, 0, 0.5], [0.25, 0.75, 0, -0.5], [-0.25, 0.25, 0.5, -0.5], [-0.25, 0.25, 0.5, -0.5]], [[-0.5, 0, 0, 0.5], [0.25, 0, 0, 0.5], [0.25, 0, 0, 0.5], [-0.25, 0.75, 0, 0.5], [-0.5, 0, 0, 0.5], [0.25, 0, 0, 0.5], [0.25, 0, 0, 0.5], [-0.25, 0, 0, -0.5], [0, 0.5, 0, 0.5]]]\n"
     ]
    }
   ],
   "source": [
    "# 입력된 문자열에서 자음 데이터만으로 조음 기관의 움직임 파악한다.\n",
    "\n",
    "datas = [ \"ɑnnjʌŋɑsɛjo\", \"ɑndɛʌmɑnsɛjjo\", \"ɑnnjjmassɛjjo\", \"hɑnnjjʌŋ kɑssɛjo\", \"mjjʌŋŋwadʑi  mjjʌŋŋɑɑndʑɛo\" ]\n",
    "value_of_data = []\n",
    "\n",
    "# datas 에서 각 문자열에 대한 조음위치와 조음방법과 조음강도에 대한 수치를 저장한다.\n",
    "for data in datas:\n",
    "    values = []\n",
    "    idx = 0\n",
    "    while idx < len(data):\n",
    "        ch = data[idx]\n",
    "        skip = True\n",
    "        for ipa in list(consonants[\"IPA\"]):\n",
    "            if data[idx:idx+len(ipa)] == ipa:\n",
    "                skip = False\n",
    "                conso_pos_ = conso_pos[consonants.loc[consonants[\"IPA\"] == ipa][\"조음위치\"].iloc[0]]\n",
    "                conso_how_ = conso_how[consonants.loc[consonants[\"IPA\"] == ipa][\"조음방법\"].iloc[0]]\n",
    "                conso_str_ = conso_str[consonants.loc[consonants[\"IPA\"] == ipa][\"조음강도\"].iloc[0]]\n",
    "                conso_voi_ = conso_voi[consonants.loc[consonants[\"IPA\"] == ipa][\"유성음여부\"].iloc[0]]\n",
    "                value = [conso_pos_, conso_how_, conso_str_, conso_voi_]\n",
    "                values.append(value)\n",
    "                idx += len(ipa)\n",
    "        if skip == True:\n",
    "            idx += 1\n",
    "    value_of_data.append(values)\n",
    "            \n",
    "print(value_of_data)"
   ]
  },
  {
   "cell_type": "code",
   "execution_count": 3,
   "id": "e99935ec",
   "metadata": {
    "scrolled": true
   },
   "outputs": [
    {
     "data": {
      "image/png": "[encoded data removed]",
      "text/plain": [
       "<Figure size 432x288 with 20 Axes>"
      ]
     },
     "metadata": {
      "needs_background": "light"
     },
     "output_type": "display_data"
    }
   ],
   "source": [
    "for idx, values in enumerate(value_of_data):\n",
    "    conso_pos_list = [ value[0] for value in values ]\n",
    "    conso_how_list = [ value[1] for value in values ]\n",
    "    conso_str_list = [ value[2] for value in values ]\n",
    "    conso_voi_list = [ value[3] for value in values ]\n",
    "    \n",
    "    # 조음위치\n",
    "    plt.subplot(len(value_of_data), 4, idx*4 + 1)\n",
    "    plt.plot(conso_pos_list)\n",
    "\n",
    "    # 조음방법\n",
    "    plt.subplot(len(value_of_data), 4, idx*4 + 2)\n",
    "    plt.plot(conso_how_list)\n",
    "\n",
    "    # 조음강도\n",
    "    plt.subplot(len(value_of_data), 4, idx*4 + 3)\n",
    "    plt.plot(conso_str_list)\n",
    "    \n",
    "    # 유성음여부\n",
    "    plt.subplot(len(value_of_data), 4, idx*4 + 4)\n",
    "    plt.plot(conso_voi_list)\n",
    "    \n",
    "plt.show()"
   ]
  },
  {
   "cell_type": "code",
   "execution_count": 4,
   "id": "ae5497bf",
   "metadata": {
    "scrolled": true
   },
   "outputs": [
    {
     "name": "stdout",
     "output_type": "stream",
     "text": [
      "   IPA    조음상하위치      조음좌우위치               입술모양\n",
      "0    i      High       Front          Unrounded\n",
      "1    ɯ      High        Back          Unrounded\n",
      "2    u      High        Back            Rounded\n",
      "3    ɛ       Mid       Front          Unrounded\n",
      "4    ʌ       Mid        Back          Unrounded\n",
      "5    o       Mid        Back            Rounded\n",
      "6    ɑ       Low        Back          Unrounded\n",
      "7    a       Low        Back          Unrounded\n",
      "8   ju      High  Front+Back            Rounded\n",
      "9   jʌ  High+Mid  Front+Back          Unrounded\n",
      "10  jo  High+Mid  Front+Back            Rounded\n",
      "11  jɛ  High+Mid  Front+Back          Unrounded\n",
      "12  ja  High+Low  Front+Back          Unrounded\n",
      "13  wi      High  Back+Front  Rounded+Unrounded\n",
      "14  wʌ  High+Mid        Back  Rounded+Unrounded\n",
      "15  wɛ  High+Mid  Back+Front  Rounded+Unrounded\n",
      "16  wa   Mid+Low        Back  Rounded+Unrounded\n",
      "17  ɰi      High  Back+Front  Unrounded+Rounded\n"
     ]
    }
   ],
   "source": [
    "import pandas as pd\n",
    "import matplotlib.pyplot as plt\n",
    "\n",
    "# 모음 기준 (중요성 있는 순서대로 나열)\n",
    "# 1. 입술 모양\n",
    "# 2. 조음 좌우 위치, 조음 상하 위치\n",
    "\n",
    "# shape (Unrounded) -0.5 --- 0.5 (Rounded)\n",
    "vowel_shp = { \"Unrounded\": -0.5, \"Rounded+Unrounded\": -0.17, \"Unrounded+Rounded\": 0.17, \"Rounded\": 0.5 }\n",
    "# width position (Front) -0.5 --- 0.5 (Back)\n",
    "vowel_wps = { \"Front\": -0.5, \"Back+Front\": -0.17, \"Front+Back\": 0.17, \"Back\": 0.5 }\n",
    "# height position (Low) -0.5 --- 0.5 (High)\n",
    "vowel_hps = { \"Low\": -0.5, \"Mid+Low\": -0.3, \"High+Low\": -0.1, \"Mid\": 0, \"High+Mid\": 0.2, \"High\": 0.5 }\n",
    "\n",
    "vowels = pd.read_csv(\"csv/vowels.csv\")\n",
    "print(vowels)"
   ]
  },
  {
   "cell_type": "code",
   "execution_count": 5,
   "id": "9d71d64a",
   "metadata": {},
   "outputs": [
    {
     "name": "stdout",
     "output_type": "stream",
     "text": [
      "[[[-0.5, 0.5, -0.5], [-0.5, 0.17, 0.2], [-0.5, 0.5, -0.5], [-0.5, -0.5, 0], [0.5, 0.17, 0.2]], [[-0.5, 0.5, -0.5], [-0.5, -0.5, 0], [-0.5, 0.5, 0], [-0.5, 0.5, -0.5], [-0.5, -0.5, 0], [0.5, 0.17, 0.2]], [[-0.5, 0.5, -0.5], [-0.5, 0.5, -0.5], [-0.5, -0.5, 0], [0.5, 0.17, 0.2]], [[-0.5, 0.5, -0.5], [-0.5, 0.17, 0.2], [-0.5, 0.5, -0.5], [-0.5, -0.5, 0], [0.5, 0.17, 0.2]], [[-0.5, 0.17, 0.2], [-0.17, 0.5, -0.3], [-0.5, -0.5, 0.5], [-0.5, 0.17, 0.2], [-0.5, 0.5, -0.5], [-0.5, 0.5, -0.5], [-0.5, -0.5, 0], [0.5, 0.5, 0]]]\n"
     ]
    }
   ],
   "source": [
    "# 입력된 문자열에서 자음 데이터만으로 조음 기관의 움직임 파악한다.\n",
    "\n",
    "datas = [ \"ɑnnjʌŋɑsɛjo\", \"ɑndɛʌmɑnsɛjjo\", \"ɑnnjjmassɛjjo\", \"hɑnnjjʌŋ kɑssɛjo\", \"mjjʌŋŋwadʑi  mjjʌŋŋɑɑndʑɛo\" ]\n",
    "value_of_data = []\n",
    "\n",
    "# datas 에서 각 문자열에 대한 입술 모양, 조음 좌우 위치, 조음 상하 위치에 대한 수치를 저장한다.\n",
    "for data in datas:\n",
    "    values = []\n",
    "    idx = 0\n",
    "    while idx < len(data):\n",
    "        ch = data[idx]\n",
    "        skip = True\n",
    "        for ipa in list(vowels[\"IPA\"]):\n",
    "            if data[idx:idx+len(ipa)] == ipa:\n",
    "                skip = False\n",
    "                vowel_shp_ = vowel_shp[vowels.loc[vowels[\"IPA\"] == ipa][\"입술모양\"].iloc[0]]\n",
    "                vowel_wps_ = vowel_wps[vowels.loc[vowels[\"IPA\"] == ipa][\"조음좌우위치\"].iloc[0]]\n",
    "                vowel_hps_ = vowel_hps[vowels.loc[vowels[\"IPA\"] == ipa][\"조음상하위치\"].iloc[0]]\n",
    "                value = [vowel_shp_, vowel_wps_, vowel_hps_]\n",
    "                values.append(value)\n",
    "                idx += len(ipa)\n",
    "        if skip == True:\n",
    "            idx += 1\n",
    "    value_of_data.append(values)\n",
    "            \n",
    "print(value_of_data)"
   ]
  },
  {
   "cell_type": "code",
   "execution_count": 6,
   "id": "7a43c4fd",
   "metadata": {},
   "outputs": [
    {
     "data": {
      "image/png": "[encoded data removed]",
      "text/plain": [
       "<Figure size 432x288 with 15 Axes>"
      ]
     },
     "metadata": {
      "needs_background": "light"
     },
     "output_type": "display_data"
    }
   ],
   "source": [
    "for idx, values in enumerate(value_of_data):\n",
    "    vowel_shp_list = [ value[0] for value in values ]\n",
    "    vowel_wps_list = [ value[1] for value in values ]\n",
    "    vowel_hps_list = [ value[2] for value in values ]\n",
    "\n",
    "    # 입술 모양\n",
    "    plt.subplot(len(value_of_data), 3, idx*3 + 1)\n",
    "    plt.plot(vowel_shp_list)\n",
    "\n",
    "    # 조음 좌우 위치\n",
    "    plt.subplot(len(value_of_data), 3, idx*3 + 2)\n",
    "    plt.plot(vowel_wps_list)\n",
    "\n",
    "    # 조음 상하 위치\n",
    "    plt.subplot(len(value_of_data), 3, idx*3 + 3)\n",
    "    plt.plot(vowel_hps_list)\n",
    "\n",
    "plt.show()"
   ]
  },
  {
   "cell_type": "code",
   "execution_count": 7,
   "id": "bb1632a8",
   "metadata": {},
   "outputs": [],
   "source": [
    "# 여기까지 자음, 모음에 대한 독립적인 분석이었고, 아래부터는 자음+모음이 합쳐진 상태에서 분석 진행하는 것임."
   ]
  },
  {
   "cell_type": "code",
   "execution_count": 8,
   "id": "84084628",
   "metadata": {
    "scrolled": true
   },
   "outputs": [
    {
     "name": "stdout",
     "output_type": "stream",
     "text": [
      "[[-0.5, 0.5, -0.5], [-0.25, 0, 0, -0.5], [-0.25, 0, 0, -0.5], [-0.5, 0.17, 0.2], [0.25, 0, 0, 0.5], [-0.5, 0.5, -0.5], [-0.25, 0.25, 0.5, -0.5], [-0.5, -0.5, 0], [0.5, 0.17, 0.2]] ['V', 'C', 'C', 'V', 'c', 'V', 'C', 'V', 'V'] ['ɑ', 'n', 'n', 'jʌ', 'ŋ', 'ɑ', 's', 'ɛ', 'jo']\n",
      "[[-0.5, 0.5, -0.5], [-0.25, 0, 0, -0.5], [-0.25, 0.75, 0, 0.5], [-0.5, -0.5, 0], [-0.5, 0.5, 0], [-0.5, 0, 0, 0.5], [-0.5, 0.5, -0.5], [-0.25, 0, 0, -0.5], [-0.25, 0.25, 0.5, -0.5], [-0.5, -0.5, 0], [0.5, 0.17, 0.2]] ['V', 'C', 'C', 'V', 'V', 'C', 'V', 'C', 'C', 'V', 'V'] ['ɑ', 'n', 'd', 'ɛ', 'ʌ', 'm', 'ɑ', 'n', 's', 'ɛ', 'jo']\n",
      "[[-0.5, 0.5, -0.5], [-0.25, 0, 0, -0.5], [-0.25, 0, 0, -0.5], [-0.5, 0, 0, 0.5], [-0.5, 0.5, -0.5], [-0.25, 0.25, 0.5, -0.5], [-0.25, 0.25, 0.5, -0.5], [-0.5, -0.5, 0], [0.5, 0.17, 0.2]] ['V', 'C', 'C', 'C', 'V', 'C', 'C', 'V', 'V'] ['ɑ', 'n', 'n', 'm', 'a', 's', 's', 'ɛ', 'jo']\n",
      "[[0.5, 0.25, 0.5, -0.5], [-0.5, 0.5, -0.5], [-0.25, 0, 0, -0.5], [-0.25, 0, 0, -0.5], [-0.5, 0.17, 0.2], [0.25, 0, 0, 0.5], [0.25, 0.75, 0, -0.5], [-0.5, 0.5, -0.5], [-0.25, 0.25, 0.5, -0.5], [-0.25, 0.25, 0.5, -0.5], [-0.5, -0.5, 0], [0.5, 0.17, 0.2]] ['C', 'V', 'C', 'C', 'V', 'c', 'C', 'V', 'C', 'C', 'V', 'V'] ['h', 'ɑ', 'n', 'n', 'jʌ', 'ŋ', 'k', 'ɑ', 's', 's', 'ɛ', 'jo']\n",
      "[[-0.5, 0, 0, 0.5], [-0.5, 0.17, 0.2], [0.25, 0, 0, 0.5], [0.25, 0, 0, 0.5], [-0.17, 0.5, -0.3], [-0.25, 0.75, 0, 0.5], [-0.5, -0.5, 0.5], [-0.5, 0, 0, 0.5], [-0.5, 0.17, 0.2], [0.25, 0, 0, 0.5], [0.25, 0, 0, 0.5], [-0.5, 0.5, -0.5], [-0.5, 0.5, -0.5], [-0.25, 0, 0, -0.5], [0, 0.5, 0, 0.5], [-0.5, -0.5, 0], [0.5, 0.5, 0]] ['C', 'V', 'c', 'c', 'V', 'C', 'V', 'C', 'V', 'c', 'c', 'V', 'V', 'C', 'C', 'V', 'V'] ['m', 'jʌ', 'ŋ', 'ŋ', 'wa', 'd', 'i', 'm', 'jʌ', 'ŋ', 'ŋ', 'ɑ', 'ɑ', 'n', 'dʑ', 'ɛ', 'o']\n"
     ]
    }
   ],
   "source": [
    "datas = [ \"ɑnnjʌŋɑsɛjo\", \"ɑndɛʌmɑnsɛjjo\", \"ɑnnjjmassɛjjo\", \"hɑnnjjʌŋ kɑssɛjo\", \"mjjʌŋŋwadʑi  mjjʌŋŋɑɑndʑɛo\" ]\n",
    "\n",
    "# data 에서 각 IPA 문자에 대응되는 수치를 저장한다.\n",
    "def mapping_ipa_with_value(data):\n",
    "    values = []\n",
    "    types = []\n",
    "    origs = []\n",
    "    idx = 0\n",
    "    while idx < len(data):\n",
    "        ch = data[idx]\n",
    "        skip = True\n",
    "        for ipa in list(consonants[\"IPA\"]):\n",
    "            if data[idx:idx+len(ipa)] == ipa:\n",
    "                skip = False\n",
    "                conso_pos_ = conso_pos[consonants.loc[consonants[\"IPA\"] == ipa][\"조음위치\"].iloc[0]]\n",
    "                conso_how_ = conso_how[consonants.loc[consonants[\"IPA\"] == ipa][\"조음방법\"].iloc[0]]\n",
    "                conso_str_ = conso_str[consonants.loc[consonants[\"IPA\"] == ipa][\"조음강도\"].iloc[0]]\n",
    "                conso_voi_ = conso_voi[consonants.loc[consonants[\"IPA\"] == ipa][\"유성음여부\"].iloc[0]]\n",
    "                value = [conso_pos_, conso_how_, conso_str_, conso_voi_]\n",
    "                values.append(value)\n",
    "                if ipa == \"ŋ\": # 받침이 있는 경우, 'C' 가 아닌 'c' 로 등록하여 이후 처리에 반영한다.\n",
    "                    types.append(\"c\") # Consonants (받침)\n",
    "                else:\n",
    "                    types.append(\"C\") # Consonants\n",
    "                origs.append(ipa)\n",
    "                idx += len(ipa)\n",
    "        for ipa in list(vowels[\"IPA\"]):\n",
    "            if data[idx:idx+len(ipa)] == ipa:\n",
    "                skip = False\n",
    "                vowel_shp_ = vowel_shp[vowels.loc[vowels[\"IPA\"] == ipa][\"입술모양\"].iloc[0]]\n",
    "                vowel_wps_ = vowel_wps[vowels.loc[vowels[\"IPA\"] == ipa][\"조음좌우위치\"].iloc[0]]\n",
    "                vowel_hps_ = vowel_hps[vowels.loc[vowels[\"IPA\"] == ipa][\"조음상하위치\"].iloc[0]]\n",
    "                value = [vowel_shp_, vowel_wps_, vowel_hps_]\n",
    "                values.append(value)\n",
    "                types.append(\"V\") # Vowels\n",
    "                origs.append(ipa)\n",
    "                idx += len(ipa)\n",
    "        if skip == True:\n",
    "            idx += 1\n",
    "    return values, types, origs\n",
    "    \n",
    "# datas 에서 각 IPA 문자에 대응되는 수치를 저장한다.\n",
    "for data in datas:\n",
    "    values, types, origs = mapping_ipa_with_value(data)\n",
    "    print(values, types, origs)"
   ]
  },
  {
   "cell_type": "code",
   "execution_count": 16,
   "id": "9abff668",
   "metadata": {
    "scrolled": true
   },
   "outputs": [
    {
     "name": "stdout",
     "output_type": "stream",
     "text": [
      "CVCCV ['CVC', 'CV']\n",
      "CVCV ['CV', 'CV']\n",
      "CVcV ['CVc', 'V']\n",
      "CVCC ['CVC', 'C']\n",
      "VCCVC ['VC', 'CVC']\n",
      "CVCCV ['CVC', 'CV']\n",
      "CVcCV ['CVc', 'CV']\n",
      "VCCVCVV ['VC', 'CV', 'CV', 'V']\n",
      "VCVCVCVV ['V', 'CV', 'CV', 'CV', 'V']\n",
      "VCVcVCVV ['V', 'CVc', 'V', 'CV', 'V']\n",
      "VCCVCVVC ['VC', 'CV', 'CV', 'VC']\n",
      "CVCCVVVC ['CVC', 'CV', 'V', 'VC']\n",
      "CVcCVVVC ['CVc', 'CV', 'V', 'VC']\n",
      "CVcVCVCVcVCCVV ['CVc', 'V', 'CV', 'CVc', 'VC', 'CV', 'V']\n"
     ]
    }
   ],
   "source": [
    "def split_types(types):\n",
    "    result = []\n",
    "    \n",
    "    while len(types) > 0:\n",
    "        if types.startswith(\"CVCC\") or types.startswith(\"CVc\"):\n",
    "            result.append(types[:3])\n",
    "            types = types[3:]\n",
    "        elif types.startswith(\"CVCV\") or types.startswith(\"CVV\") or types.startswith(\"VCC\") or types.startswith(\"Vc\"):\n",
    "            result.append(types[:2])\n",
    "            types = types[2:]\n",
    "        elif types.startswith(\"VCV\") or types.startswith(\"VV\") or types.startswith(\"cV\") or types.upper().startswith(\"CC\"):\n",
    "            result.append(types[:1])\n",
    "            types = types[1:]\n",
    "        else:\n",
    "            result.append(types[:])\n",
    "            types = \"\"\n",
    "    \n",
    "    return result\n",
    "        \n",
    "print(\"CVCCV\", split_types(\"CVCCV\"))\n",
    "print(\"CVCV\", split_types(\"CVCV\"))\n",
    "print(\"CVcV\", split_types(\"CVcV\"))\n",
    "print(\"CVCC\", split_types(\"CVCC\"))\n",
    "print(\"VCCVC\", split_types(\"VCCVC\"))\n",
    "print(\"CVCCV\", split_types(\"CVCCV\"))\n",
    "print(\"CVcCV\", split_types(\"CVcCV\"))\n",
    "print(\"VCCVCVV\", split_types(\"VCCVCVV\"))\n",
    "print(\"VCVCVCVV\", split_types(\"VCVCVCVV\"))\n",
    "print(\"VCVcVCVV\", split_types(\"VCVcVCVV\"))\n",
    "print(\"VCCVCVVC\", split_types(\"VCCVCVVC\"))\n",
    "print(\"CVCCVVVC\", split_types(\"CVCCVVVC\"))\n",
    "print(\"CVcCVVVC\", split_types(\"CVcCVVVC\"))\n",
    "print(\"CVcVCVCVcVCCVV\", split_types(\"CVcVCVCVcVCCVV\"))"
   ]
  },
  {
   "cell_type": "code",
   "execution_count": 17,
   "id": "df0e287d",
   "metadata": {
    "scrolled": true
   },
   "outputs": [
    {
     "name": "stdout",
     "output_type": "stream",
     "text": [
      "[[0, 0, 0, 0, -0.5, 0.5, -0.5, -0.25, 0, 0, -0.5], [-0.25, 0, 0, -0.5, -0.5, 0.17, 0.2, 0.25, 0, 0, 0.5], [0, 0, 0, 0, -0.5, 0.5, -0.5, 0, 0, 0, 0], [-0.25, 0.25, 0.5, -0.5, -0.5, -0.5, 0, 0, 0, 0, 0], [0, 0, 0, 0, 0.5, 0.17, 0.2, 0, 0, 0, 0]] ['VC', 'CVc', 'V', 'CV', 'V'] [['ɑ', 'n'], ['n', 'jʌ', 'ŋ'], ['ɑ'], ['s', 'ɛ'], ['jo']]\n",
      "[[0, 0, 0, 0, -0.5, 0.5, -0.5, -0.25, 0, 0, -0.5], [-0.25, 0.75, 0, 0.5, -0.5, -0.5, 0, 0, 0, 0, 0], [0, 0, 0, 0, -0.5, 0.5, 0, 0, 0, 0, 0], [-0.5, 0, 0, 0.5, -0.5, 0.5, -0.5, -0.25, 0, 0, -0.5], [-0.25, 0.25, 0.5, -0.5, -0.5, -0.5, 0, 0, 0, 0, 0], [0, 0, 0, 0, 0.5, 0.17, 0.2, 0, 0, 0, 0]] ['VC', 'CV', 'V', 'CVC', 'CV', 'V'] [['ɑ', 'n'], ['d', 'ɛ'], ['ʌ'], ['m', 'ɑ', 'n'], ['s', 'ɛ'], ['jo']]\n",
      "[[0, 0, 0, 0, -0.5, 0.5, -0.5, -0.25, 0, 0, -0.5], [-0.25, 0, 0, -0.5, 0, 0, 0, 0, 0, 0, 0], [-0.5, 0, 0, 0.5, -0.5, 0.5, -0.5, -0.25, 0.25, 0.5, -0.5], [-0.25, 0.25, 0.5, -0.5, -0.5, -0.5, 0, 0, 0, 0, 0], [0, 0, 0, 0, 0.5, 0.17, 0.2, 0, 0, 0, 0]] ['VC', 'C', 'CVC', 'CV', 'V'] [['ɑ', 'n'], ['n'], ['m', 'a', 's'], ['s', 'ɛ'], ['jo']]\n",
      "[[0.5, 0.25, 0.5, -0.5, -0.5, 0.5, -0.5, -0.25, 0, 0, -0.5], [-0.25, 0, 0, -0.5, -0.5, 0.17, 0.2, 0.25, 0, 0, 0.5], [0.25, 0.75, 0, -0.5, -0.5, 0.5, -0.5, -0.25, 0.25, 0.5, -0.5], [-0.25, 0.25, 0.5, -0.5, -0.5, -0.5, 0, 0, 0, 0, 0], [0, 0, 0, 0, 0.5, 0.17, 0.2, 0, 0, 0, 0]] ['CVC', 'CVc', 'CVC', 'CV', 'V'] [['h', 'ɑ', 'n'], ['n', 'jʌ', 'ŋ'], ['k', 'ɑ', 's'], ['s', 'ɛ'], ['jo']]\n",
      "[[-0.5, 0, 0, 0.5, -0.5, 0.17, 0.2, 0.25, 0, 0, 0.5], [0, 0, 0, 0, 0, 0, 0, 0.25, 0, 0, 0.5], [0, 0, 0, 0, -0.17, 0.5, -0.3, 0, 0, 0, 0], [-0.25, 0.75, 0, 0.5, -0.5, -0.5, 0.5, 0, 0, 0, 0], [-0.5, 0, 0, 0.5, -0.5, 0.17, 0.2, 0.25, 0, 0, 0.5], [0, 0, 0, 0, 0, 0, 0, 0.25, 0, 0, 0.5], [0, 0, 0, 0, -0.5, 0.5, -0.5, 0, 0, 0, 0], [0, 0, 0, 0, -0.5, 0.5, -0.5, -0.25, 0, 0, -0.5], [0, 0.5, 0, 0.5, -0.5, -0.5, 0, 0, 0, 0, 0], [0, 0, 0, 0, 0.5, 0.5, 0, 0, 0, 0, 0]] ['CVc', 'c', 'V', 'CV', 'CVc', 'c', 'V', 'VC', 'CV', 'V'] [['m', 'jʌ', 'ŋ'], ['ŋ'], ['wa'], ['d', 'i'], ['m', 'jʌ', 'ŋ'], ['ŋ'], ['ɑ'], ['ɑ', 'n'], ['dʑ', 'ɛ'], ['o']]\n"
     ]
    }
   ],
   "source": [
    "# C+V 단위 Vectorization 진행\n",
    "def vectorize_ipa(values, types, origs):\n",
    "    vector_values = []\n",
    "    vector_types = []\n",
    "    vector_origs = []\n",
    "    prev_type = None\n",
    "    \n",
    "    # C+V 단위 Vectorization\n",
    "    types_after = split_types(''.join(types))\n",
    "    \n",
    "    idx = 0\n",
    "    for types_ in types_after:\n",
    "        vector_value = []\n",
    "        vector_orig = []\n",
    "        \n",
    "        if types_ == \"CVC\" or types_ == \"CVc\":\n",
    "            vector_value += values[idx]\n",
    "            vector_value += values[idx+1]\n",
    "            vector_value += values[idx+2]\n",
    "            vector_orig.append(origs[idx])\n",
    "            vector_orig.append(origs[idx+1])\n",
    "            vector_orig.append(origs[idx+2])\n",
    "        elif types_ == \"CV\":\n",
    "            vector_value += values[idx]\n",
    "            vector_value += values[idx+1]\n",
    "            vector_value += [0, 0, 0, 0]\n",
    "            vector_orig.append(origs[idx])\n",
    "            vector_orig.append(origs[idx+1])\n",
    "        elif types_ == \"VC\" or types_ == \"Vc\":\n",
    "            vector_value += [0, 0, 0, 0]\n",
    "            vector_value += values[idx]\n",
    "            vector_value += values[idx+1]\n",
    "            vector_orig.append(origs[idx])\n",
    "            vector_orig.append(origs[idx+1])\n",
    "        elif types_ == \"V\":\n",
    "            vector_value += [0, 0, 0, 0]\n",
    "            vector_value += values[idx]\n",
    "            vector_value += [0, 0, 0, 0]\n",
    "            vector_orig.append(origs[idx])\n",
    "        elif types_ == \"C\":\n",
    "            vector_value += values[idx]\n",
    "            vector_value += [0, 0, 0]\n",
    "            vector_value += [0, 0, 0, 0]\n",
    "            vector_orig.append(origs[idx])\n",
    "        elif types_ == \"c\":\n",
    "            vector_value += [0, 0, 0, 0]\n",
    "            vector_value += [0, 0, 0]\n",
    "            vector_value += values[idx]\n",
    "            vector_orig.append(origs[idx])\n",
    "        else:\n",
    "            print(types_after)\n",
    "            print(types_)\n",
    "            raise Exception(\"types_ 에 대하여 예기치 못한 입력값이 들어왔습니다.\")\n",
    "        \n",
    "        vector_type = types_\n",
    "        vector_values.append(vector_value)\n",
    "        vector_types.append(vector_type)\n",
    "        vector_origs.append(vector_orig)\n",
    "        idx += len(types_)\n",
    "            \n",
    "    # 1차원 값으로 집어넣고, 이후 distance 값 구한 뒤에 similarity 구하면 된다.\n",
    "            \n",
    "    return vector_values, vector_types, vector_origs\n",
    "\n",
    "\n",
    "for data in datas:\n",
    "    values, types, origs = mapping_ipa_with_value(data)\n",
    "    vector_values, vector_types, vector_origs = vectorize_ipa(values, types, origs)\n",
    "    print(vector_values, vector_types, vector_origs)"
   ]
  },
  {
   "cell_type": "code",
   "execution_count": 18,
   "id": "d807646e",
   "metadata": {
    "scrolled": false
   },
   "outputs": [
    {
     "name": "stdout",
     "output_type": "stream",
     "text": [
      "0.0\n",
      "0.25\n",
      "0.265869140625\n",
      "----------\n",
      "[[1.         0.2913546  0.67875129 0.74586777 0.267336   0.44663704]\n",
      " [0.36015274 0.36261199 0.49177069 0.33339076 0.44937522 0.48050103]\n",
      " [0.79574509 0.41955062 0.86828512 0.57105501 0.390625   0.60258523]\n",
      " [0.267336   0.59710744 0.48050103 0.24435046 1.         0.33575703]\n",
      " [0.44663704 0.36261199 0.6827116  0.28296597 0.33575703 1.        ]]\n",
      "[['ɑ', 'n'], ['n', 'jʌ', 'ŋ'], ['ɑ'], ['s', 'ɛ'], ['jo']] [['ɑ', 'n'], ['d', 'ɛ'], ['ʌ'], ['m', 'ɑ', 'n'], ['s', 'ɛ'], ['jo']]\n"
     ]
    }
   ],
   "source": [
    "# 두 value 사이에서의 score 를 구하는 함수 (1차원) (default)\n",
    "def get_score_1d(values_ans, values_usr):\n",
    "    assert isinstance(values_ans, list), \"1차원 리스트에 대한 입력값만 지원합니다\"\n",
    "    assert not isinstance(values_ans[0], list), \"1차원 리스트에 대한 입력값만 지원합니다\"\n",
    "    assert isinstance(values_usr, list), \"1차원 리스트에 대한 입력값만 지원합니다\"\n",
    "    assert not isinstance(values_usr[0], list), \"1차원 리스트에 대한 입력값만 지원합니다\"\n",
    "    \n",
    "    # value_1 과 value_2 의 원소 배열 크기가 다른 경우, max distance (=1) 반환함.\n",
    "    if len(values_ans) != len(values_usr):\n",
    "        return 0 # min score 반환\n",
    "    \n",
    "    sum_score = 0\n",
    "    cnt_score = 0\n",
    "    \n",
    "    for idx in range(len(values_ans)):\n",
    "        distance = abs(values_usr[idx] - values_ans[idx])\n",
    "        sum_score += (1 - distance) ** 2 # 거듭제곱 형식으로 정답보다 멀수록 점수를 더 차감하는 방식\n",
    "        cnt_score += 1\n",
    "    \n",
    "    return (sum_score / cnt_score) ** 2 # 거듭제곱 형식으로 정답보다 멀수록 점수를 더 차감하는 방식\n",
    "\n",
    "print(get_score_1d([0, 1, 1, 0, 1], [1, 0, 0, 1, 0]))\n",
    "print(get_score_1d([0, 1, 1, 1], [1, 0, 1, 1]))\n",
    "print(get_score_1d([0, 0.5, 0.25, 0.5], [0, 0, 0, 1]))\n",
    "\n",
    "print(\"----------\") # outputs are real distance values belows\n",
    "\n",
    "import numpy as np\n",
    "\n",
    "# values_1 과 values_2 에 대한 서로 대응하는 distance 를 계산한다.\n",
    "# types_1 : answer, types_2 : user_input\n",
    "def get_scores(values_ans, types_ans, values_usr, types_usr):\n",
    "    scores = np.zeros((len(types_ans), len(types_usr)), dtype=float)\n",
    "    \n",
    "    for i in range(len(types_ans)):\n",
    "        for j in range(len(types_usr)):\n",
    "            scores[i][j] = get_score_1d(values_ans[i], values_usr[j])\n",
    "    \n",
    "    return scores\n",
    "    \n",
    "values_ans, types_ans, origs_ans = mapping_ipa_with_value(\"ɑnnjʌŋɑsɛjo\")\n",
    "values_ans, types_ans, origs_ans = vectorize_ipa(values_ans, types_ans, origs_ans)\n",
    "values_usr, types_usr, origs_usr = mapping_ipa_with_value(\"ɑndɛʌmɑnsɛjjo\")\n",
    "values_usr, types_usr, origs_usr = vectorize_ipa(values_usr, types_usr, origs_usr)\n",
    "\n",
    "print(get_scores(values_ans, types_ans, values_usr, types_usr))\n",
    "print(origs_ans, origs_usr)"
   ]
  },
  {
   "cell_type": "code",
   "execution_count": 19,
   "id": "07d18f1e",
   "metadata": {
    "scrolled": true
   },
   "outputs": [
    {
     "name": "stdout",
     "output_type": "stream",
     "text": [
      "{'answer_ipa': 'ɑnnjʌŋɑsɛjo', 'user_ipa': 'ɑndɛʌmɑnsɛjjo', 'score': 0.6896181937603306, 'summary': [[['ɑ', 'n'], ['ɑ', 'n'], 1.0], [['n', 'jʌ', 'ŋ'], ['d', 'ɛ'], 0.3626119934710744], [['ɑ'], ['ʌ'], 0.868285123966942], [['ɑ'], ['m', 'ɑ', 'n'], 0.5710550103305786], [['s', 'ɛ'], ['s', 'ɛ'], 1.0], [['jo'], ['s', 'ɛ'], 0.33575703479338836]]}\n"
     ]
    }
   ],
   "source": [
    "# 두 values 사이에서 score 채점 진행 (동적계획법 활용)\n",
    "def get_score(answer_ipa, user_ipa, option=\"default\"):\n",
    "    values_ans, types_ans, origs_ans = mapping_ipa_with_value(answer_ipa)\n",
    "    values_ans, types_ans, origs_ans = vectorize_ipa(values_ans, types_ans, origs_ans)\n",
    "    values_usr, types_usr, origs_usr = mapping_ipa_with_value(user_ipa)\n",
    "    values_usr, types_usr, origs_usr = vectorize_ipa(values_usr, types_usr, origs_usr)\n",
    "    \n",
    "    scores = get_scores(values_ans, types_ans, values_usr, types_usr)\n",
    "    avg_of_scores = np.zeros((len(types_ans) + 1, len(types_usr) + 1), dtype=float)\n",
    "    cnt_of_directions = np.zeros((len(types_ans) + 1, len(types_usr) + 1), dtype=float) # direction counting\n",
    "    directions = np.empty((len(types_ans) + 1, len(types_usr) + 1), dtype='U') # best path 의 방향 저장\n",
    "\n",
    "    # 기본 설정\n",
    "    avg_of_scores[:,0] = 0\n",
    "    avg_of_scores[0,:] = 0\n",
    "    \n",
    "    # 평균이 최대가 되는 경우를 찾게 됨\n",
    "    for i in range(1, len(types_ans) + 1):\n",
    "        for j in range(1, len(types_usr) + 1):\n",
    "            # right\n",
    "            expected_right = (avg_of_scores[i][j-1] * cnt_of_directions[i][j-1] + scores[i-1][j-1]) / (cnt_of_directions[i][j-1] + 1)\n",
    "            if avg_of_scores[i][j] < expected_right:\n",
    "                avg_of_scores[i][j] = expected_right\n",
    "                cnt_of_directions[i][j] = cnt_of_directions[i][j-1] + 1\n",
    "                directions[i][j] = \"r\"\n",
    "            \n",
    "            # bottom\n",
    "            expected_bottom = (avg_of_scores[i-1][j] * cnt_of_directions[i-1][j] + scores[i-1][j-1]) / (cnt_of_directions[i-1][j] + 1)\n",
    "            if avg_of_scores[i][j] < expected_bottom:\n",
    "                avg_of_scores[i][j] = expected_bottom\n",
    "                cnt_of_directions[i][j] = cnt_of_directions[i-1][j] + 1\n",
    "                directions[i][j] = \"b\"\n",
    "            \n",
    "            # diagonal\n",
    "            expected_diagonal = (avg_of_scores[i-1][j-1] * cnt_of_directions[i-1][j-1] + scores[i-1][j-1]) / (cnt_of_directions[i-1][j-1] + 1)\n",
    "            if avg_of_scores[i][j] < expected_diagonal:\n",
    "                avg_of_scores[i][j] = expected_diagonal\n",
    "                directions[i][j] = \"d\"\n",
    "                cnt_of_directions[i][j] = cnt_of_directions[i-1][j-1] + 1\n",
    "     \n",
    "    # score 계산 및 score 가 최대가 되는 i(=answer), j(=user) 계산\n",
    "    i = len(types_ans)\n",
    "    j = min(i, len(types_usr))\n",
    "    max_score = 0\n",
    "    for j_ in range(i, len(types_usr)):\n",
    "        score = avg_of_scores[i][j_]\n",
    "        if score > max_score:\n",
    "            max_score = score\n",
    "            j = j_\n",
    "    \n",
    "    # score 최댓값\n",
    "    score = avg_of_scores[i][j]\n",
    "    \n",
    "    if option == \"score\":\n",
    "        return score\n",
    "    elif option == \"default\":\n",
    "        # score 최댓값이 나오게 하는 path 파악\n",
    "        result_dict = dict()\n",
    "        result_dict[\"answer_ipa\"] = answer_ipa\n",
    "        result_dict[\"user_ipa\"] = user_ipa\n",
    "        result_dict[\"score\"] = score\n",
    "        result_dict[\"summary\"] = []\n",
    "        \n",
    "        answer_ipa_splited = []\n",
    "        user_ipa_splited = []\n",
    "        per_scores = []\n",
    "        \n",
    "        while True:\n",
    "            direction = directions[i][j]\n",
    "            \n",
    "            if direction == '':\n",
    "                break\n",
    "            \n",
    "            answer_ipa_splited.append(origs_ans[i-1])\n",
    "            user_ipa_splited.append(origs_usr[j-1])\n",
    "            per_scores.append(scores[i-1][j-1])\n",
    "            \n",
    "            if direction == 'r':\n",
    "                j -= 1\n",
    "            elif direction == 'b':\n",
    "                i -= 1\n",
    "            elif direction == 'd':\n",
    "                i -= 1\n",
    "                j -= 1\n",
    "        \n",
    "        for answer_ipa_char, user_ipa_char, per_score in zip(answer_ipa_splited, user_ipa_splited, per_scores):\n",
    "            result_dict[\"summary\"].append([answer_ipa_char, user_ipa_char, per_score])\n",
    "            \n",
    "        result_dict[\"summary\"].reverse() \n",
    "\n",
    "        return result_dict\n",
    "\n",
    "print(get_score(\"ɑnnjʌŋɑsɛjo\", \"ɑndɛʌmɑnsɛjjo\"))"
   ]
  },
  {
   "cell_type": "code",
   "execution_count": 20,
   "id": "996af0db",
   "metadata": {
    "scrolled": true
   },
   "outputs": [
    {
     "name": "stdout",
     "output_type": "stream",
     "text": [
      "----------start-----------\n",
      "{'answer_ipa': 'ɑnnjʌŋɑsɛjo', 'user_ipa': 'ɑnnjʌŋɑsɛjo', 'score': 1.0, 'summary': [[['ɑ', 'n'], ['ɑ', 'n'], 1.0], [['n', 'jʌ', 'ŋ'], ['n', 'jʌ', 'ŋ'], 1.0], [['ɑ'], ['ɑ'], 1.0], [['s', 'ɛ'], ['s', 'ɛ'], 1.0], [['jo'], ['jo'], 1.0]]}\n",
      "-----------end------------\n",
      "\n",
      "----------start-----------\n",
      "{'answer_ipa': 'ɑnnjʌŋɑsɛjo', 'user_ipa': 'ɑnnjʌŋɑsɛjo ɑnnjʌŋɑsɛjo', 'score': 1.0, 'summary': [[['ɑ', 'n'], ['ɑ', 'n'], 1.0], [['n', 'jʌ', 'ŋ'], ['n', 'jʌ', 'ŋ'], 1.0], [['ɑ'], ['ɑ'], 1.0], [['s', 'ɛ'], ['s', 'ɛ'], 1.0], [['jo'], ['jo'], 1.0]]}\n",
      "-----------end------------\n",
      "\n",
      "----------start-----------\n",
      "{'answer_ipa': 'ɑnnjʌŋɑsɛjo', 'user_ipa': 'ɑndɛʌmɑnsɛjjo', 'score': 0.6896181937603306, 'summary': [[['ɑ', 'n'], ['ɑ', 'n'], 1.0], [['n', 'jʌ', 'ŋ'], ['d', 'ɛ'], 0.3626119934710744], [['ɑ'], ['ʌ'], 0.868285123966942], [['ɑ'], ['m', 'ɑ', 'n'], 0.5710550103305786], [['s', 'ɛ'], ['s', 'ɛ'], 1.0], [['jo'], ['s', 'ɛ'], 0.33575703479338836]]}\n",
      "-----------end------------\n",
      "\n",
      "----------start-----------\n",
      "{'answer_ipa': 'ɑnnjʌŋɑsɛjo', 'user_ipa': 'ɑnnjjmassɛjjo', 'score': 0.8002995354710745, 'summary': [[['ɑ', 'n'], ['ɑ', 'n'], 1.0], [['n', 'jʌ', 'ŋ'], ['n'], 0.5819470575206613], [['ɑ'], ['m', 'a', 's'], 0.4195506198347107], [['s', 'ɛ'], ['s', 'ɛ'], 1.0], [['jo'], ['jo'], 1.0]]}\n",
      "-----------end------------\n",
      "\n",
      "----------start-----------\n",
      "{'answer_ipa': 'ɑnnjʌŋɑsɛjo', 'user_ipa': 'hɑnnjjʌŋ kɑssɛjo', 'score': 0.7840457128099174, 'summary': [[['ɑ', 'n'], ['h', 'ɑ', 'n'], 0.5710550103305786], [['n', 'jʌ', 'ŋ'], ['n', 'jʌ', 'ŋ'], 1.0], [['ɑ'], ['k', 'ɑ', 's'], 0.3491735537190083], [['s', 'ɛ'], ['s', 'ɛ'], 1.0], [['jo'], ['jo'], 1.0]]}\n",
      "-----------end------------\n",
      "\n",
      "----------start-----------\n",
      "{'answer_ipa': 'ɑnnjʌŋɑsɛjo', 'user_ipa': 'mjjʌŋŋwadʑi  mjjʌŋŋɑɑndʑɛo', 'score': 0.671596352506887, 'summary': [[['ɑ', 'n'], ['ɑ'], 0.7957450929752067], [['n', 'jʌ', 'ŋ'], ['ɑ'], 0.4241443240495868], [['ɑ'], ['ɑ'], 1.0], [['ɑ'], ['ɑ', 'n'], 0.7957450929752067], [['s', 'ɛ'], ['dʑ', 'ɛ'], 0.5796745867768595], [['jo'], ['dʑ', 'ɛ'], 0.4342690182644628]]}\n",
      "-----------end------------\n",
      "\n"
     ]
    }
   ],
   "source": [
    "# 발음 유사도 측정 (공백 제거 후)\n",
    "answer = \"ɑnnjʌŋɑsɛjo\"\n",
    "datas = [ \"ɑnnjʌŋɑsɛjo\", \"ɑnnjʌŋɑsɛjo ɑnnjʌŋɑsɛjo\", \"ɑndɛʌmɑnsɛjjo\", \"ɑnnjjmassɛjjo\", \"hɑnnjjʌŋ kɑssɛjo\", \"mjjʌŋŋwadʑi  mjjʌŋŋɑɑndʑɛo\" ]\n",
    "\n",
    "for data in datas:\n",
    "    print(\"----------start-----------\")\n",
    "    print(get_score(answer, data, option=\"default\"))\n",
    "    print(\"-----------end------------\")\n",
    "    print()"
   ]
  },
  {
   "cell_type": "code",
   "execution_count": 21,
   "id": "35cce3b3",
   "metadata": {
    "scrolled": false
   },
   "outputs": [
    {
     "name": "stdout",
     "output_type": "stream",
     "text": [
      "정답 IPA : ɑnnjʌŋɑsɛjo\n",
      "유저 IPA : hɑnnjjʌŋ kɑssɛjo\n",
      "점수 :78 점 입니다!\n",
      "피드백 :\n",
      "[1] hɑn 이 아닌 ɑn 입니다! (점수 : 57 점 입니다.)\n",
      "[2]  njʌŋ 완벽합니다!\n",
      "[3] kɑs 이 아닌 ɑ 입니다! (점수 : 34 점 입니다.)\n",
      "[4]  sɛ 완벽합니다!\n",
      "[5]  jo 완벽합니다!\n"
     ]
    }
   ],
   "source": [
    "answer_ipa = \"ɑnnjʌŋɑsɛjo\"\n",
    "user_ipa = \"hɑnnjjʌŋ kɑssɛjo\"\n",
    "\n",
    "result_dict = get_score(answer_ipa, user_ipa)\n",
    "\n",
    "print(\"정답 IPA : \" + answer_ipa)\n",
    "print(\"유저 IPA : \" + user_ipa)\n",
    "print(\"점수 :\" + str(int(result_dict[\"score\"] * 100)) + \" 점 입니다!\")\n",
    "print(\"피드백 :\")\n",
    "\n",
    "for idx, feedback in enumerate(result_dict[\"summary\"], start=1):\n",
    "    if feedback[2] == 1:\n",
    "        print(\"[\" + str(idx) + \"] \", ''.join(feedback[0]) + \" 완벽합니다!\")\n",
    "    else:\n",
    "        print(\"[\" + str(idx) + \"] \" + ''.join(feedback[1]) + \" 이 아닌 \" + ''.join(feedback[0]) + \" 입니다! (점수 : \" + str(int(feedback[2] * 100)) + \" 점 입니다.)\")\n"
   ]
  },
  {
   "cell_type": "code",
   "execution_count": null,
   "id": "7e9a34ce",
   "metadata": {},
   "outputs": [],
   "source": []
  }
 ],
 "metadata": {
  "kernelspec": {
   "display_name": "Python 3 (ipykernel)",
   "language": "python",
   "name": "python3"
  },
  "language_info": {
   "codemirror_mode": {
    "name": "ipython",
    "version": 3
   },
   "file_extension": ".py",
   "mimetype": "text/x-python",
   "name": "python",
   "nbconvert_exporter": "python",
   "pygments_lexer": "ipython3",
   "version": "3.9.7"
  }
 },
 "nbformat": 4,
 "nbformat_minor": 5
}
