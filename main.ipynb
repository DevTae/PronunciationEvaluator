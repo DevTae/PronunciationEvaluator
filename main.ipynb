{
 "cells": [
  {
   "cell_type": "code",
   "execution_count": 55,
   "id": "4147c3fa",
   "metadata": {
    "scrolled": false
   },
   "outputs": [
    {
     "name": "stdout",
     "output_type": "stream",
     "text": [
      "    IPA           조음위치       조음방법       조음강도\n",
      "0     p       Bilabial    Plosive      Lenis\n",
      "1    pʰ       Bilabial    Plosive  Aspirated\n",
      "2    p*       Bilabial    Plosive     Fortis\n",
      "3     m       Bilabial      Nasal      Lenis\n",
      "4     t       Alveolar    Plosive      Lenis\n",
      "5    tʰ       Alveolar    Plosive  Aspirated\n",
      "6    t*       Alveolar    Plosive     Fortis\n",
      "7     s       Alveolar  Fricative  Aspirated\n",
      "8    s*       Alveolar  Fricative     Fortis\n",
      "9     n       Alveolar      Nasal      Lenis\n",
      "10    l       Alveolar    Lateral      Lenis\n",
      "11   tɕ  Alveo-Palatal  Affricate      Lenis\n",
      "12  tɕʰ  Alveo-Palatal  Affricate  Aspirated\n",
      "13  tɕ*  Alveo-Palatal  Affricate     Fortis\n",
      "14    k          Velar    Plosive      Lenis\n",
      "15   kʰ          Velar    Plosive  Aspirated\n",
      "16   k*          Velar    Plosive     Fortis\n",
      "17    ŋ          Velar      Nasal      Lenis\n",
      "18    h        Glottal  Fricative  Aspirated\n"
     ]
    }
   ],
   "source": [
    "import pandas as pd\n",
    "import matplotlib.pyplot as plt\n",
    "\n",
    "# 자음 기준 (중요성 있는 순서대로 나열)\n",
    "# 1. 조음 위치\n",
    "# 2. 조음 방법\n",
    "# 3. 조음 강도\n",
    "\n",
    "# Position (Bilabial) 0 --- 1 (Glottal)\n",
    "conso_pos = { \"Bilabial\": 0, \"Alveolar\": 0.25, \"Alveo-Palatal\": 0.5, \"Velar\": 0.75, \"Glottal\": 1 }\n",
    "# HowToPronunce (Plosive) 1 --- 0 (Lateral)\n",
    "# 파열음(ㅂ, ㅍ, ㅃ, ㄷ, ㅌ, ㄸ, ㄱ, ㅋ, ㄲ), 마찰음(ㅅ, ㅆ, ㅎ), 파찰음(ㅈ, ㅊ, ㅉ), 비음(ㅁ, ㄴ, ㅇ), 유음(ㄹ)\n",
    "conso_how = { \"Plosive\": 1, \"Fricative\": 0.75, \"Affricate\": 0.5, \"Nasal\": 0.25, \"Lateral\": 0 }\n",
    "# Strength (Lenis) 0 --- 1 (Fortis)\n",
    "conso_str = { \"Lenis\": 0, \"Aspirated\": 0.5, \"Fortis\": 1 }\n",
    "\n",
    "consonants = pd.read_csv(\"csv/consonants.csv\")\n",
    "consonants[\"조음강도\"] = consonants[\"조음강도\"].replace(\"None\", \"Lenis\") # None -> Lenis\n",
    "print(consonants)"
   ]
  },
  {
   "cell_type": "code",
   "execution_count": 64,
   "id": "59acb161",
   "metadata": {
    "scrolled": true
   },
   "outputs": [
    {
     "name": "stdout",
     "output_type": "stream",
     "text": [
      "[[[0.25, 0.25, 0], [0.25, 0.25, 0], [0.75, 0.25, 0], [0.25, 0.75, 0.5]], [[0.25, 0.25, 0], [0, 0.25, 0], [0.25, 0.25, 0], [0.25, 0.75, 0.5]], [[0.25, 0.25, 0], [0.25, 0.25, 0], [0, 0.25, 0], [0.25, 0.75, 0.5], [0.25, 0.75, 0.5]], [[1, 0.75, 0.5], [0.25, 0.25, 0], [0.25, 0.25, 0], [0.75, 0.25, 0], [0.75, 1, 0], [0.25, 0.75, 0.5], [0.25, 0.75, 0.5]], [[0, 0.25, 0], [0.75, 0.25, 0], [0.75, 0.25, 0], [0, 0.25, 0], [0.75, 0.25, 0], [0.75, 0.25, 0], [0.25, 0.25, 0]]]\n"
     ]
    }
   ],
   "source": [
    "# 입력된 문자열에서 자음 데이터만으로 조음 기관의 움직임 파악한다.\n",
    "\n",
    "datas = [ \"ɑnnjʌŋɑsɛjo\", \"ɑndɛʌmɑnsɛjjo\", \"ɑnnjjmassɛjjo\", \"hɑnnjjʌŋ kɑssɛjo\", \"mjjʌŋŋwadʑi  mjjʌŋŋɑɑndʑɛo\" ]\n",
    "value_of_data = []\n",
    "\n",
    "# datas 에서 각 문자열에 대한 조음위치와 조음방법과 조음강도에 대한 수치를 저장한다.\n",
    "for data in datas:\n",
    "    values = []\n",
    "    idx = 0\n",
    "    while idx < len(data):\n",
    "        ch = data[idx]\n",
    "        skip = True\n",
    "        for ipa in list(consonants[\"IPA\"]):\n",
    "            if data[idx:idx+len(ipa)] == ipa:\n",
    "                skip = False\n",
    "                conso_pos_ = conso_pos[consonants.loc[consonants[\"IPA\"] == ipa][\"조음위치\"].iloc[0]]\n",
    "                conso_how_ = conso_how[consonants.loc[consonants[\"IPA\"] == ipa][\"조음방법\"].iloc[0]]\n",
    "                conso_str_ = conso_str[consonants.loc[consonants[\"IPA\"] == ipa][\"조음강도\"].iloc[0]]\n",
    "                value = [conso_pos_, conso_how_, conso_str_]\n",
    "                values.append(value)\n",
    "                idx += len(ipa)\n",
    "        if skip == True:\n",
    "            idx += 1\n",
    "    value_of_data.append(values)\n",
    "            \n",
    "print(value_of_data)"
   ]
  },
  {
   "cell_type": "code",
   "execution_count": 75,
   "id": "b1c6e08d",
   "metadata": {},
   "outputs": [
    {
     "data": {
      "image/png": "[encoded data removed]",
      "text/plain": [
       "<Figure size 432x288 with 15 Axes>"
      ]
     },
     "metadata": {
      "needs_background": "light"
     },
     "output_type": "display_data"
    }
   ],
   "source": [
    "for idx, values in enumerate(value_of_data):\n",
    "    conso_pos_list = [ value[0] for value in values ]\n",
    "    conso_how_list = [ value[1] for value in values ]\n",
    "    conso_str_list = [ value[2] for value in values ]\n",
    "    \n",
    "    # 조음위치\n",
    "    plt.subplot(len(value_of_data), 3, idx*3 + 1)\n",
    "    plt.plot(conso_pos_list)\n",
    "\n",
    "    # 조음방법\n",
    "    plt.subplot(len(value_of_data), 3, idx*3 + 2)\n",
    "    plt.plot(conso_how_list)\n",
    "\n",
    "    # 조음강도\n",
    "    plt.subplot(len(value_of_data), 3, idx*3 + 3)\n",
    "    plt.plot(conso_str_list)\n",
    "        \n",
    "plt.show()"
   ]
  },
  {
   "cell_type": "code",
   "execution_count": null,
   "id": "db1bf568",
   "metadata": {},
   "outputs": [],
   "source": []
  }
 ],
 "metadata": {
  "kernelspec": {
   "display_name": "Python 3 (ipykernel)",
   "language": "python",
   "name": "python3"
  },
  "language_info": {
   "codemirror_mode": {
    "name": "ipython",
    "version": 3
   },
   "file_extension": ".py",
   "mimetype": "text/x-python",
   "name": "python",
   "nbconvert_exporter": "python",
   "pygments_lexer": "ipython3",
   "version": "3.9.7"
  }
 },
 "nbformat": 4,
 "nbformat_minor": 5
}
